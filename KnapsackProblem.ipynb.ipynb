{
 "cells": [
  {
   "cell_type": "code",
   "execution_count": 1,
   "metadata": {
    "executionInfo": {
     "elapsed": 469,
     "status": "ok",
     "timestamp": 1669735587346,
     "user": {
      "displayName": "Ariel mordetzki",
      "userId": "11375042184000331705"
     },
     "user_tz": 180
    },
    "id": "YyshY9VDLC9F"
   },
   "outputs": [],
   "source": [
    "import pandas as pd\n",
    "import numpy as np\n",
    "import cvxpy as cp\n",
    "import time\n",
    "import matplotlib.pyplot as plt"
   ]
  },
  {
   "cell_type": "markdown",
   "metadata": {
    "id": "smxT7llfKbOK"
   },
   "source": [
    "# Definicion del problema\n",
    "Consideramos una serie de objetos cada uno con peso $w_{i}$ y profit $p_{i}$ y una bolsa con capacidad $W$.\n",
    "\n",
    "El problema de knapsack radica en determinar un subconjunto de $w$ que maximice la suma de los profits llevados, y satisfaga la capacidad de la bolsa.\n",
    "\n",
    "En otras palabras, ¿que objetos puedo llevar en la bolsa que me maximicen el profit?\n",
    "\n"
   ]
  },
  {
   "cell_type": "code",
   "execution_count": null,
   "metadata": {
    "colab": {
     "base_uri": "https://localhost:8080/"
    },
    "executionInfo": {
     "elapsed": 15,
     "status": "ok",
     "timestamp": 1669735587763,
     "user": {
      "displayName": "Ariel mordetzki",
      "userId": "11375042184000331705"
     },
     "user_tz": 180
    },
    "id": "fMOgVWSuHoya",
    "outputId": "ff8ebeb7-e825-4a2e-d5f8-d188990fe357"
   },
   "outputs": [],
   "source": [
    "# Creamos una instancia de problema knapsack para trabajar\n",
    "profits = np.array([18, 15, 10, 10, 18])\n",
    "weights = np.array([19, 13, 10, 17, 10])\n",
    "data = dict({'weight': weights,'profit': profits})\n",
    "num_items = len(profits)\n",
    "max_weight = int(np.floor(num_items / 2 * np.mean(weights)))\n",
    "df = pd.DataFrame(data)\n",
    "print(\"-------------------------------------\")\n",
    "print(\"Choose items from: \\n \")\n",
    "print(df)\n",
    "print(f\"with a max weight of: {max_weight}\\n \")\n",
    "print(\"-------------------------------------\")"
   ]
  },
  {
   "cell_type": "markdown",
   "metadata": {
    "id": "1oJWEs0_K88d"
   },
   "source": [
    "# Modelado lineal del problema\n",
    "\n",
    "El problema de optimizacion se puede modelar considerando las variables binarias:\n",
    "$$\n",
    " \\begin{equation}\n",
    "    x_{i}=\n",
    "    \\begin{cases}\n",
    "      1 & \\text{si elemento $i$ es elegido}\\  \\\\\n",
    "      0 & \\text{en otro caso}\n",
    "    \\end{cases}\n",
    "  \\end{equation}$$\n",
    "\n",
    "Luego el problema queda:\n",
    "\n",
    "\n",
    "$$ max \\sum_{i} p_ix_{i} $$\n",
    "st\n",
    "$$\\sum_{i} x_{i}w_{i}\\leq W$$\n",
    "\n",
    "En forma matricial, si definimos los vectores $w$, $p$, y $x$ como: \n",
    "$$w = [w_1, w_2, \\dots , w_n]$$\n",
    "$$p = [p_1, p_2, \\dots , p_n]$$\n",
    "$$x = [x_1, x_2, \\dots , x_n]$$\n",
    "\n",
    "Donde $w$ y $p$ son parametros, y $x$ es el vector de variables de optimización.\n",
    "\n",
    "El problema queda:\n",
    "\n",
    "$$ max\\{  p^{t}x\\}$$\n",
    "st\n",
    "$$ w^{t}x \\leq W$$\n",
    "\n",
    "\n",
    "A partir de ahora, conviene pensar al problema no como hallar los valores de ${x_i}$ óptimos, sino como el problema de hallar el vector $x$ óptimo."
   ]
  },
  {
   "cell_type": "code",
   "execution_count": null,
   "metadata": {
    "executionInfo": {
     "elapsed": 13,
     "status": "ok",
     "timestamp": 1669735587763,
     "user": {
      "displayName": "Ariel mordetzki",
      "userId": "11375042184000331705"
     },
     "user_tz": 180
    },
    "id": "IlG8lTy0NWdw"
   },
   "outputs": [],
   "source": [
    "# Solucion usando cvxpy\n",
    "def solve_knapsack(profits, weights, max_weight):\n",
    "  num_items = len(profits)\n",
    "  x = cp.Variable(num_items, boolean = True) # creacion de variable binaria\n",
    "\n",
    "\n",
    "  constraint = weights @ x <= max_weight\n",
    "  profit_loaded = profits @ x\n",
    "\n",
    "  objective = cp.Maximize(profit_loaded)\n",
    "  problem = cp.Problem(objective, [constraint])\n",
    "\n",
    "  # resolucion del problema\n",
    "  tic = time.perf_counter()\n",
    "  result = problem.solve(solver=cp.GLPK_MI)\n",
    "  tac = time.perf_counter()\n",
    "  time_elapsed = tac-tic\n",
    "  \n",
    "\n",
    "  x_opt = x.value\n",
    "  return x_opt, time_elapsed"
   ]
  },
  {
   "cell_type": "code",
   "execution_count": null,
   "metadata": {
    "colab": {
     "base_uri": "https://localhost:8080/"
    },
    "executionInfo": {
     "elapsed": 14,
     "status": "ok",
     "timestamp": 1669735587764,
     "user": {
      "displayName": "Ariel mordetzki",
      "userId": "11375042184000331705"
     },
     "user_tz": 180
    },
    "id": "6ylxTvD0Jp4K",
    "outputId": "e20466a0-bdce-497f-be3b-8cf1789ea6dd"
   },
   "outputs": [],
   "source": [
    "x_opt, time_elapsed = solve_knapsack(profits, weights, max_weight) # no nos interesa retornar el tiempo por ahora\n",
    "print(f\"solution found in: {time_elapsed} seconds\")\n",
    "print(\"solution: \", x_opt)"
   ]
  },
  {
   "cell_type": "markdown",
   "metadata": {
    "id": "Uz-agDFzFhHc"
   },
   "source": [
    "# Interpretacion del resultado\n",
    "\n",
    "El  solver nos da un valor de $x$ optimo, que logra cargar un profit de $43$. Es necesario hacer un post procesamiento para poder mostrar este resultado de forma más agradable, y poder checkear su validez. "
   ]
  },
  {
   "cell_type": "code",
   "execution_count": null,
   "metadata": {
    "colab": {
     "base_uri": "https://localhost:8080/"
    },
    "executionInfo": {
     "elapsed": 11,
     "status": "ok",
     "timestamp": 1669735587764,
     "user": {
      "displayName": "Ariel mordetzki",
      "userId": "11375042184000331705"
     },
     "user_tz": 180
    },
    "id": "zRxF1RXQGHRT",
    "outputId": "5450831d-4b11-4d32-d970-9c647235bc69"
   },
   "outputs": [],
   "source": [
    "# calculo del profit cargado\n",
    "profit_loaded = int(np.sum(profits*x_opt))\n",
    "# calculo del peso cargado\n",
    "weight_loaded = int(np.sum(weights*x_opt))\n",
    "\n",
    "if weight_loaded <= max_weight: # si la solucion es valida\n",
    "\n",
    "  index_of_chosen = np.where(x_opt == 1)[0] # retorna los indices de los items elegidos.\n",
    "  output_df = df.iloc[index_of_chosen]\n",
    "  print(\"-------------------------------------\")\n",
    "  print(\"Choosen items are: \")\n",
    "  print(output_df)\n",
    "  print(f\"The loaded weight is: {weight_loaded} kg, and the maximum was: {max_weight} kg\")\n",
    "  print(f\"The loaded profit is:  ${profit_loaded}\\n\" )\n",
    "  print(\"-------------------------------------\")\n",
    "\n",
    "else:\n",
    "  print(\"invalid solution, weight exceeded\")  \n"
   ]
  },
  {
   "cell_type": "markdown",
   "metadata": {
    "id": "EZdB_xCmIvQs"
   },
   "source": [
    "# Algunas consideraciones\n",
    "\n",
    "> * Si tenemos un problema de Knapsack de $n$ variables (es decir, de $n$ items) entonces el espacio de búsqueda es de tamaño $2^{n}$ posibles vectores $x$ (no todos viables)\n",
    "\n",
    "> * El problema de optimización es no convexo, y los solvers clásicos utilizan heurísticas y métodos numéricos para resolver el problema.\n",
    "\n",
    "# Ejercicio:\n",
    "\n",
    "Dados los items con pesos: $[10, 30, 25, 32, 21, 12, 43]$ y una bolsa con capacidad máxima $73kg$, indicar que items llevar para maximizar la cantidad de items llevados.\n",
    "\n",
    "Consideración: el resultado debe ser mostrado en un dataframe de pandas, manteniendo los indices originales"
   ]
  },
  {
   "cell_type": "code",
   "execution_count": null,
   "metadata": {
    "colab": {
     "base_uri": "https://localhost:8080/"
    },
    "executionInfo": {
     "elapsed": 8,
     "status": "ok",
     "timestamp": 1669735587764,
     "user": {
      "displayName": "Ariel mordetzki",
      "userId": "11375042184000331705"
     },
     "user_tz": 180
    },
    "id": "ojS83yvKU3MW",
    "outputId": "a55bec83-84a7-4265-8737-e2fcd0b3d7a2"
   },
   "outputs": [],
   "source": [
    "# sol, despues borramos\n",
    "\n",
    "weights_e = [10, 30,25, 32, 21, 12, 43]\n",
    "weight_max_e = 73\n",
    "data = dict({'weights ': weights_e})\n",
    "df = pd.DataFrame(data)\n",
    "profits_e = np.ones(len(weights_e))\n",
    "x_opt_e, time_elapsed_e = solve_knapsack(profits_e, weights_e, weight_max_e)\n",
    "profit_loaded_e = int(np.sum(profits_e*x_opt_e))\n",
    "# calculo del peso cargado\n",
    "weight_loaded_e = int(np.sum(weights_e*x_opt_e))\n",
    "\n",
    "if weight_loaded_e <= weight_max_e: # si la solucion es valida\n",
    "\n",
    "  index_of_chosen_e = np.where(x_opt_e == 1)[0] # retorna los indices de los items elegidos.\n",
    "  output_df_e = df.iloc[index_of_chosen_e]\n",
    "  print(\"-------------------------------------\")\n",
    "  print(\"Choosen items are: \")\n",
    "  print(output_df)\n",
    "  print(f\"The loaded weight is: {weight_loaded_e} kg, and the maximum was: {weight_max_e} kg\")\n",
    "  print(f\"The amount of loaded itemsis:  ${profit_loaded_e}\\n\" )\n",
    "  print(\"-------------------------------------\")\n",
    "\n",
    "else:\n",
    "  print(\"invalid solution, weight exceeded\")  \n",
    "\n"
   ]
  },
  {
   "cell_type": "markdown",
   "metadata": {
    "id": "bzKsUU6HXRjs"
   },
   "source": [
    "# Opcional\n",
    "Tiempo de ejecucion en funcion de cantidad de items"
   ]
  },
  {
   "cell_type": "code",
   "execution_count": null,
   "metadata": {
    "executionInfo": {
     "elapsed": 257966,
     "status": "ok",
     "timestamp": 1669735845725,
     "user": {
      "displayName": "Ariel mordetzki",
      "userId": "11375042184000331705"
     },
     "user_tz": 180
    },
    "id": "58m7xXQ3JPiR"
   },
   "outputs": [],
   "source": [
    "max_items = 10000\n",
    "times = np.array([])\n",
    "for i in range(5,max_items):\n",
    "  weights_rand = np.array(abs(np.random.normal(loc= i, scale=i/4, size=i))).astype(int)\n",
    "  profits_rand = np.array(abs(np.random.normal(loc= i/2, scale=i/4, size=i))).astype(int)\n",
    "  num_items_rand = len(profits_rand)\n",
    "  max_weight_rand = int(np.floor(num_items / 2 * np.mean(weights)))\n",
    "  x_opt, time_elapsed = solve_knapsack(profits_rand, weights_rand, max_weight_rand)\n",
    "  times = np.append(times,time_elapsed)\n",
    "\n",
    "\n",
    "times[abs(times - np.mean(times)) < 2 * np.std(times)]; # saco algun outlier\n",
    "times = times/(10**-3) # lo paso a ms"
   ]
  },
  {
   "cell_type": "code",
   "execution_count": null,
   "metadata": {
    "executionInfo": {
     "elapsed": 11,
     "status": "ok",
     "timestamp": 1669735845727,
     "user": {
      "displayName": "Ariel mordetzki",
      "userId": "11375042184000331705"
     },
     "user_tz": 180
    },
    "id": "VzmHfQnN5d-u"
   },
   "outputs": [],
   "source": [
    "\n",
    "def solveNormalEquations(A, b):\n",
    "  \n",
    "    \n",
    "    At = np.transpose(A) # guardo en \"At\" la traspuesta de A\n",
    "    inv = np.linalg.inv(At*A) # guardo en \"inv\" la inversa de A^{t}*A\n",
    "    x0 = inv*(At*b)  \n",
    "    \n",
    "    error = np.linalg.norm(A*x0-b) # Error es la norma 2 de Ax-b\n",
    "    \n",
    "    return x0, error"
   ]
  },
  {
   "cell_type": "code",
   "execution_count": null,
   "metadata": {
    "executionInfo": {
     "elapsed": 11,
     "status": "ok",
     "timestamp": 1669735845728,
     "user": {
      "displayName": "Ariel mordetzki",
      "userId": "11375042184000331705"
     },
     "user_tz": 180
    },
    "id": "aU3fjXKu3LGo"
   },
   "outputs": [],
   "source": [
    "t = [i for i in range(5, max_items)]\n",
    "A = np.transpose(np.matrix([t, np.ones(len(t))]))  # A la matriz que tiene como filas t, y una fila de 1, la traspongo.\n",
    "b = np.transpose(np.array([times])) # vector y traspuesto\n",
    "\n",
    "xopt, error = solveNormalEquations(A, b)\n",
    "\n",
    "m = float(xopt[0][0])\n",
    "n = float(xopt[1][0])"
   ]
  },
  {
   "cell_type": "code",
   "execution_count": null,
   "metadata": {
    "colab": {
     "base_uri": "https://localhost:8080/"
    },
    "executionInfo": {
     "elapsed": 12,
     "status": "ok",
     "timestamp": 1669735845729,
     "user": {
      "displayName": "Ariel mordetzki",
      "userId": "11375042184000331705"
     },
     "user_tz": 180
    },
    "id": "NPiFpQMr5Io4",
    "outputId": "99d8182d-6d56-4f8f-b95b-2bc0c5dbfa7b"
   },
   "outputs": [],
   "source": [
    "\n",
    "\n",
    "print(m)\n",
    "print(n)\n"
   ]
  },
  {
   "cell_type": "code",
   "execution_count": null,
   "metadata": {
    "colab": {
     "base_uri": "https://localhost:8080/",
     "height": 295
    },
    "executionInfo": {
     "elapsed": 10,
     "status": "ok",
     "timestamp": 1669735845729,
     "user": {
      "displayName": "Ariel mordetzki",
      "userId": "11375042184000331705"
     },
     "user_tz": 180
    },
    "id": "D6uC7P4y5jkp",
    "outputId": "7efaf034-086c-4030-d1d6-88006f805e1f"
   },
   "outputs": [],
   "source": [
    "  \n",
    "plt.title(\"Tiempo de ejecucion\")\n",
    "plt.xlabel(\"cantidad de elementos en knapsack\")\n",
    "plt.ylabel(\"tiempo (ms)\")\n",
    "plt.plot(times, label = \"tiempo\")\n",
    "plt.plot(np.multiply(t, m)+n, label = \"recta de ajuste\")\n",
    "plt.legend()\n",
    "plt.show()"
   ]
  },
  {
   "cell_type": "markdown",
   "metadata": {
    "id": "7zgI-pIXXZ3o"
   },
   "source": [
    "Podemos notar un crecimiento de tiempo de ejecucion (esperado) en función. \n",
    "\n",
    "Teoricamente, la complejidad del knapsack es de orden $\\mathcal{O}(n*W)$\n",
    "\n",
    "donde $n$ es la cantidad de items y $W$ es la capacidad de la bolsa. "
   ]
  },
  {
   "attachments": {},
   "cell_type": "markdown",
   "metadata": {},
   "source": [
    "# Solucion Knapsack con volumenes:\n",
    "\n",
    "Vamos a usar esta solucion para comparar la validez del codigo creado para Dwave"
   ]
  },
  {
   "cell_type": "code",
   "execution_count": 2,
   "metadata": {},
   "outputs": [],
   "source": [
    "def solve_knapsack_volumes(profits, weights, max_weight, volumes, max_volume):\n",
    "  num_items = len(profits)\n",
    "  x = cp.Variable(num_items, boolean = True) # creacion de variable binaria\n",
    "\n",
    "\n",
    "  constraint_weights = weights @ x <= max_weight\n",
    "  constraint_volumes = volumes @ x <= max_volume\n",
    "  profit_loaded = profits @ x\n",
    "\n",
    "  objective = cp.Maximize(profit_loaded)\n",
    "  problem = cp.Problem(objective, [constraint_weights, constraint_volumes])\n",
    "\n",
    "  # resolucion del problema\n",
    "  tic = time.perf_counter()\n",
    "  result = problem.solve(solver=cp.GLPK_MI)\n",
    "  tac = time.perf_counter()\n",
    "  time_elapsed = tac-tic\n",
    "  \n",
    "\n",
    "  x_opt = x.value\n",
    "  return x_opt, time_elapsed"
   ]
  },
  {
   "cell_type": "code",
   "execution_count": 3,
   "metadata": {},
   "outputs": [
    {
     "name": "stdout",
     "output_type": "stream",
     "text": [
      "-------------------------------------\n",
      "Choose items from: \n",
      " \n",
      "   volumes  weight  profit\n",
      "0        2      19      18\n",
      "1        1      13      15\n",
      "2        3      10      10\n",
      "3        4      17      10\n",
      "4        5      10      18\n",
      "with a max weight of: 34\n",
      " \n",
      "with a max volume of: 7\n",
      " \n",
      "-------------------------------------\n"
     ]
    }
   ],
   "source": [
    "# Creamos una instancia de problema knapsack para trabajar\n",
    "profits = np.array([18, 15, 10, 10, 18])\n",
    "weights = np.array([19, 13, 10, 17, 10])\n",
    "#volumes = np.array([12, 17, 14, 15, 11])\n",
    "volumes = np.array([2, 1, 3, 4, 5])\n",
    "data = dict({'volumes':volumes, 'weight': weights,'profit': profits})\n",
    "num_items = len(profits)\n",
    "max_weight = int(np.floor(num_items / 2 * np.mean(weights)))\n",
    "max_volume = int(np.floor(num_items / 2 * np.mean(volumes)))\n",
    "df = pd.DataFrame(data)\n",
    "print(\"-------------------------------------\")\n",
    "print(\"Choose items from: \\n \")\n",
    "print(df)\n",
    "print(f\"with a max weight of: {max_weight}\\n \")\n",
    "print(f\"with a max volume of: {max_volume}\\n \")\n",
    "print(\"-------------------------------------\")"
   ]
  },
  {
   "cell_type": "code",
   "execution_count": 4,
   "metadata": {},
   "outputs": [
    {
     "name": "stdout",
     "output_type": "stream",
     "text": [
      "solution found in: 0.029988500056788325 seconds\n",
      "solution:  [1. 0. 0. 0. 1.]\n"
     ]
    }
   ],
   "source": [
    "x_opt, time_elapsed = solve_knapsack_volumes(profits, weights, max_weight, volumes, max_volume) # no nos interesa retornar el tiempo por ahora\n",
    "print(f\"solution found in: {time_elapsed} seconds\")\n",
    "print(\"solution: \", x_opt)"
   ]
  },
  {
   "cell_type": "code",
   "execution_count": 6,
   "metadata": {},
   "outputs": [
    {
     "name": "stdout",
     "output_type": "stream",
     "text": [
      "-------------------------------------\n",
      "Choosen items are: \n",
      "   volumes  weight  profit\n",
      "0        2      19      18\n",
      "4        5      10      18\n",
      "The loaded weight is: 29 kg, and the maximum was: 34 kg\n",
      "The loaded weight is: 7 mt^3, and the maximum was: 7 mt^3\n",
      "The loaded profit is:  $36\n",
      "\n",
      "-------------------------------------\n"
     ]
    }
   ],
   "source": [
    "# calculo del profit cargado\n",
    "profit_loaded = int(np.sum(profits*x_opt))\n",
    "# calculo del peso cargado\n",
    "weight_loaded = int(np.sum(weights*x_opt))\n",
    "volume_loaded = int(np.sum(volumes*x_opt))\n",
    "\n",
    "if weight_loaded <= max_weight and volume_loaded <= max_volume: # si la solucion es valida\n",
    "\n",
    "  index_of_chosen = np.where(x_opt == 1)[0] # retorna los indices de los items elegidos.\n",
    "  output_df = df.iloc[index_of_chosen]\n",
    "  print(\"-------------------------------------\")\n",
    "  print(\"Choosen items are: \")\n",
    "  print(output_df)\n",
    "  print(f\"The loaded weight is: {weight_loaded} kg, and the maximum was: {max_weight} kg\")\n",
    "  print(f\"The loaded weight is: {volume_loaded} mt^3, and the maximum was: {max_volume} mt^3\")\n",
    "  print(f\"The loaded profit is:  ${profit_loaded}\\n\" )\n",
    "  print(\"-------------------------------------\")\n",
    "\n",
    "else:\n",
    "  print(\"invalid solution, weight exceeded\")"
   ]
  }
 ],
 "metadata": {
  "colab": {
   "authorship_tag": "ABX9TyMdX5WZEDoggYvoWUJq9bCM",
   "provenance": []
  },
  "kernelspec": {
   "display_name": "Python 3.10.7 64-bit",
   "language": "python",
   "name": "python3"
  },
  "language_info": {
   "codemirror_mode": {
    "name": "ipython",
    "version": 3
   },
   "file_extension": ".py",
   "mimetype": "text/x-python",
   "name": "python",
   "nbconvert_exporter": "python",
   "pygments_lexer": "ipython3",
   "version": "3.10.7"
  },
  "vscode": {
   "interpreter": {
    "hash": "369f2c481f4da34e4445cda3fffd2e751bd1c4d706f27375911949ba6bb62e1c"
   }
  }
 },
 "nbformat": 4,
 "nbformat_minor": 1
}
