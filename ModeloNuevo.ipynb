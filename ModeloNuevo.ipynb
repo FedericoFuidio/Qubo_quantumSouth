{
 "cells": [
  {
   "attachments": {},
   "cell_type": "markdown",
   "metadata": {},
   "source": [
    "# Solucion varios knapsack con otro metodo:\n",
    "\n",
    "# Construccion de la matriz de funcion objetivo\n",
    "\n",
    "Construiremos una matriz $Q_{objetivo}$ tal el problema $max\\{  p^{t}x\\}$ sea analogo a $min\\{  x^{t}(-Q_{objetivo})x\\}$\n",
    "\n",
    "Esta matriz $Q$ se puede determinar de la siguiente manera:\n",
    "\n",
    " \\begin{pmatrix}\n",
    "    p_1 & 0 & \\dots & 0 \\\\\n",
    "    0 & p_2 & \\dots & 0 \\\\\n",
    "    \\vdots & \\vdots & \\ddots & \\vdots \\\\\n",
    "    0 & 0 & \\dots & p_n\n",
    "  \\end{pmatrix}\n",
    "\n",
    "  Si hacemos las cuentas:\n",
    "\n",
    "  $$  x^{t}(-Q_{objetivo})x = p_1x_1^2 + p_2x_2^2+ \\dots + p_nx_n^2  $$\n",
    "  y como $x_i \\in [0, 1] \\rightarrow x_i^2 = x_i$ \n",
    "\n",
    "  entonces:\n",
    "\n",
    "  $$min\\{ x^{t}(-Q_{objetivo})x\\} = max\\{ \\sum_i p_ix_i\\} = max\\{p^{t}x\\}$$\n",
    "\n",
    "  > Observación: la dimension de la matriz es $n \\times n$. Luego esto cambiará  "
   ]
  },
  {
   "attachments": {},
   "cell_type": "markdown",
   "metadata": {},
   "source": [
    "# Implementacion de la matriz de restriccion\n",
    "\n",
    "Consideramos la restriccion: \n",
    "\n",
    "$w^{t}x \\leq W$\n",
    "\n",
    "Si $H_{B}$ es el Hamiltoniano de las restricciones:\n",
    "\n",
    "$$H_{B} = A\\left[ y_{L-1}(W + 1 - 2^{L-1}) + \\sum_{i=0}^{L-2} 2^{i}y_{i}\\ + \\sum_{i=1}^{n} w_{i}x_{i} - W \\right]^{2}$$\n",
    "\n",
    "Lo que haremos es buscar una forma de representar $\\frac{H_{B}}{A}$ como una forma cuadratica, y luego elegimos el valor de $A$ (representado por la variable $\\alpha$ en el codigo).\n",
    "\n",
    "## Necesidad de variables auxiliares\n",
    "Para hallar esta matriz, debemos ampliar al vector $x$ ya que se necesitan agregar unas ciertas variables de slack $s_i$, donde $s_i = y_{i+1}$ en el Hamiltoniano. La cantidad de variables de slack a agregar es:\n",
    "\n",
    "$$L =  \\lfloor log_2(W)\\rfloor+1$$\n",
    "\n",
    "Entonces el vector $x$ queda:\n",
    "\n",
    "$$x = [x_1 , x_2 , \\dots, x_n, s_1, s_2,\\dots,s_L ]$$\n",
    "\n",
    "> Nuestra nueva matriz $Q_{objetivo}$ queda:\n",
    "\n",
    " \\begin{pmatrix}\n",
    "    Q_{objetivo} & 0 & \\dots & 0 \\\\\n",
    "    0 & 0_1 & \\dots & 0 \\\\\n",
    "    \\vdots & \\vdots & \\ddots & \\vdots \\\\\n",
    "    0 & 0 & \\dots & 0_L \\\\\n",
    "  \\end{pmatrix}\n",
    "\n",
    "## Implementacion de la matriz de restriccion\n",
    "\n",
    "Con esta aclaracion en mente, la matriz de restriccion de peso queda:\n",
    "\n",
    "$$Q_{peso} = v^{t}v - 2 W D$$ \n",
    "\n",
    "Siendo $D$ la matriz diagonal con $v$ en su diagonal, y \n",
    "\n",
    "$$v = \\left( w_1, w_2,\\dots ,w_n, 2^0, 2^1,...,2^{L-2}, W+1 -2^{L-1} \\right)$$\n",
    "\n",
    "Notemos que:\n",
    "\n",
    "$$\\alpha x^{t}Q_{peso}x = x^{t}(\\alpha Q_{peso})x = H_B$$\n",
    "\n",
    "Como se buscaba"
   ]
  },
  {
   "cell_type": "code",
   "execution_count": null,
   "metadata": {},
   "outputs": [],
   "source": [
    "import os\n",
    "import time\n",
    "import numpy as np\n",
    "import pandas as pd\n",
    "import math\n",
    "from functions_dwave import *\n",
    "import dimod\n",
    "import warnings\n",
    "warnings.filterwarnings('ignore')"
   ]
  },
  {
   "cell_type": "code",
   "execution_count": null,
   "metadata": {},
   "outputs": [],
   "source": [
    "# Creamos la misma instancia de knapsack\n",
    "\n",
    "profits = np.array([18, 15, 10, 10, 18])\n",
    "weights = np.array([19, 13, 10, 17, 10])\n",
    "data = dict({'weight': weights,'profit': profits})\n",
    "num_items = len(profits)\n",
    "max_weight = int(np.floor(num_items / 2 * np.mean(weights)))\n",
    "df = pd.DataFrame(data)\n",
    "print(\"-------------------------------------\")\n",
    "print(\"Choose items from: \\n \")\n",
    "print(df)\n",
    "print(f\"with a max weight of: {max_weight}\\n \")\n",
    "print(\"-------------------------------------\")"
   ]
  },
  {
   "cell_type": "code",
   "execution_count": null,
   "metadata": {},
   "outputs": [],
   "source": [
    "# Calculamos la cantidad de slacks\n",
    "num_slack = int(math.trunc(np.log2(max_weight))) + 1\n",
    "print(\"Cantidad de slacks de peso: \", num_slack)"
   ]
  },
  {
   "cell_type": "code",
   "execution_count": null,
   "metadata": {},
   "outputs": [],
   "source": [
    "# Formulacion del problema\n",
    "q_objetivo = get_Q_objetivo(profits, num_slack)\n",
    "print(\"Matriz q_objetivo: \\n\", q_objetivo)"
   ]
  },
  {
   "cell_type": "code",
   "execution_count": null,
   "metadata": {},
   "outputs": [],
   "source": [
    "q_peso = get_Q_Peso(max_weight, weights, num_slack)\n",
    "print(\"Matriz q_peso: \\n\", q_peso)"
   ]
  },
  {
   "cell_type": "code",
   "execution_count": null,
   "metadata": {},
   "outputs": [],
   "source": [
    "alpha = 80 #2/9\n",
    "qubo = -q_objetivo + alpha * q_peso\n",
    "\n",
    "print(\"Dimensiones del problema: \", qubo.shape)"
   ]
  },
  {
   "cell_type": "code",
   "execution_count": null,
   "metadata": {},
   "outputs": [],
   "source": [
    "print(\"simmulating....\")\n",
    "sampleset = sendToDwave(qubo)\n",
    "print(\"Filtering:\")\n",
    "feasibleSampleset = filterKnapSampleset(sampleset,  max_weight, weights,  num_slack)\n",
    "bestSample = lowest_energy(feasibleSampleset)\n",
    "solution = bestSample[0]\n",
    "x_opt = solution[0:num_items] # le saco las slacks"
   ]
  },
  {
   "cell_type": "code",
   "execution_count": null,
   "metadata": {},
   "outputs": [],
   "source": [
    "index_of_chosen = np.where(x_opt == 1)[0] # retorna los indices de los items elegidos.\n",
    "output_df = df.iloc[index_of_chosen]\n",
    "print(\"-------------------------------------\")\n",
    "print(\"Choosen items are: \")\n",
    "print(output_df)\n",
    "print(\"-------------------------------------\")"
   ]
  },
  {
   "attachments": {},
   "cell_type": "markdown",
   "metadata": {},
   "source": [
    "# Variacion del problema:\n",
    "\n",
    "vamos a resolver ahora una variacion, donde ademas del peso, tambien hay un volumen maximo, y cada item tiene un volumen asignado. La resolucion es totalmente analoga a la anterior\n",
    "\n",
    "si $A$ es el volumen maximo, y los volumenes de cada item se representan en el vector:\n",
    "\n",
    "$$[a_{1}, a_{2}, \\dots, a_{n}]$$\n",
    "\n",
    "Para integrarlo a nuestro modelo, con L variables de slack para la restriccion anterior: \n",
    "\n",
    "$$a = [a_{1}, a_{2}, \\dots, a_{n}, 0_{1}, \\dots, 0_{L}]$$\n",
    "\n",
    "y la restriccion queda:\n",
    "\n",
    "$$a^{t}x \\leq A$$\n",
    "\n",
    "A partir de aqui hacemos lo mismo que con la restriccion anterior, agregamos $M$ variables de slack, con:\n",
    "\n",
    "$$M =  \\lfloor log_2(A)\\rfloor+1$$\n",
    "\n",
    "La nueva matriz $Q_{objetivo}$ queda:\n",
    "\n",
    " \\begin{pmatrix}\n",
    "    Q_{objetivo} & 0 & \\dots & 0 & 0 & \\dots & 0\\\\\n",
    "    0 & 0_1 & \\dots & 0 & 0 & \\dots & 0\\\\\n",
    "    \\vdots & \\vdots & \\ddots & \\vdots & \\vdots & \\ddots & \\vdots\\\\\n",
    "    0 & 0 & \\dots & 0_L & 0 & \\dots & 0\\\\\n",
    "    0 & 0 & \\dots & 0 & 0_1 & \\dots & 0 \\\\\n",
    "    \\vdots & \\vdots & \\ddots & \\vdots & \\vdots & \\ddots & \\vdots\\\\\n",
    "    0 & 0 & \\dots & 0 & 0 & \\dots & 0_M \\\\\n",
    "  \\end{pmatrix}\n",
    "\n",
    "y la matriz $Q_{peso}$ queda:\n",
    "\n",
    " \\begin{pmatrix}\n",
    "    Q_{peso} & 0 & \\dots & 0 \\\\\n",
    "    0 & 0_1 & \\dots & 0 \\\\\n",
    "    \\vdots & \\vdots & \\ddots & \\vdots \\\\\n",
    "    0 & 0 & \\dots & 0_M \\\\\n",
    "  \\end{pmatrix}\n",
    "\n",
    "Asi, la matriz de restriccion de volumen queda: \n",
    "\n",
    "$$Q_{volumen} = v_{2}^{t}v_{2} - 2 A D_2$$\n",
    "\n",
    "donde $D_2$ es una matriz diagonal con $v_2$ como diagonal principal y:\n",
    "\n",
    "$$v_{2} = [a_{1}, a_{2}, \\dots, a_{n}, 0_{1}, \\dots, 0_{L}, 2^{0}, 2^{1}, \\dots, 2^{M-2}, A + 1 - 2^{M-1}]$$\n",
    "\n",
    "Finalmente, la matriz $Q$ a optimizar es:\n",
    "\n",
    "$$Q = -Q_{objetivo} + \\alpha Q_{peso} + \\beta Q_{volumen}$$\n",
    "\n",
    "Con $\\alpha$ y $\\beta$ parametros a elegir.\n",
    "\n"
   ]
  },
  {
   "cell_type": "code",
   "execution_count": null,
   "metadata": {},
   "outputs": [],
   "source": [
    "# Creamos la misma instancia de knapsack\n",
    "\n",
    "profits = np.array([18, 15, 10, 10, 18])\n",
    "weights = np.array([19, 13, 10, 17, 10])\n",
    "volumes = np.array([2, 1, 3, 4, 5]) #Elegimos 0 y 4\n",
    "#volumes = np.array([12, 17, 14, 15, 11]) #Elegimos 0 y 4\n",
    "# Si todos los volumenes son iguales, y la mejor solucion para el problema simplificado\n",
    "# (knapsack original) cumple la restriccion de volumen, entonces esa misma deberia ser la solucion a este problema:\n",
    "#volumes = np.array([20, 20, 20, 20, 20])\n",
    "data = dict({'volumes': volumes, 'weight': weights,'profit': profits})\n",
    "num_items = len(profits)\n",
    "max_weight = int(np.floor(num_items / 2 * np.mean(weights)))\n",
    "max_volume = int(np.floor(num_items / 2 * np.mean(volumes)))\n",
    "# si max_volume >= 60, no cambia en la solucion de [1, 2, 4] para el problema simplificado\n",
    "# un primer test que tiene que pasar esta solucion entonces es dar como resultado [1, 2, 4] con las variables actuales:\n",
    "#max_volume = 70\n",
    "df = pd.DataFrame(data)\n",
    "print(\"-------------------------------------\")\n",
    "print(\"Choose items from: \\n \")\n",
    "print(df)\n",
    "print(f\"with a max weight of: {max_weight}\\n \")\n",
    "print(f\"with a max volume of: {max_volume}\\n \")\n",
    "print(\"-------------------------------------\")"
   ]
  },
  {
   "cell_type": "code",
   "execution_count": null,
   "metadata": {},
   "outputs": [],
   "source": [
    "num_slack_weight = int(math.trunc(np.log2(max_weight))) + 1\n",
    "print(\"Cantidad de slacks de peso: \", num_slack_weight)\n",
    "\n",
    "num_slack_volume = int(math.trunc(np.log2(max_volume))) + 1\n",
    "print(\"Cantidad de slacks de volumen: \", num_slack_volume)\n",
    "\n",
    "num_slack = num_slack_volume + num_slack_weight"
   ]
  },
  {
   "cell_type": "code",
   "execution_count": null,
   "metadata": {},
   "outputs": [],
   "source": [
    "q_objetivo = get_Q_objetivo(profits, num_slack)\n",
    "print(\"Matriz q_objetivo: \\n\", q_objetivo)\n",
    "\n",
    "q_peso = get_Q_Peso(max_weight, weights, num_slack_weight, num_slack)\n",
    "print(\"Matriz q_peso: \\n\", q_peso)\n",
    "\n"
   ]
  },
  {
   "cell_type": "code",
   "execution_count": null,
   "metadata": {},
   "outputs": [],
   "source": [
    "q_volumen = get_Q_Volumen(max_volume, volumes, num_slack_volume, num_slack)\n",
    "print(\"Matriz 1_volumen: \\n\", q_volumen)"
   ]
  },
  {
   "cell_type": "code",
   "execution_count": null,
   "metadata": {},
   "outputs": [],
   "source": [
    "alpha = 50 #2/9\n",
    "beta = 50\n",
    "qubo = -q_objetivo + alpha * q_peso + beta * q_volumen\n",
    "\n",
    "print(\"Dimensiones del problema: \", qubo.shape)"
   ]
  },
  {
   "cell_type": "code",
   "execution_count": null,
   "metadata": {},
   "outputs": [],
   "source": [
    "print(\"simmulating....\")\n",
    "sampleset = sendToDwave(qubo)\n",
    "print(\"Filtering:\")\n",
    "feasibleSampleset = filterKnapSampleset(sampleset, max_weight, weights, max_volume, volumes, num_slack_weight ,num_slack)\n",
    "bestSample = lowest_energy(feasibleSampleset)\n",
    "solution = bestSample[0]\n",
    "x_opt = solution[0:num_items] # le saco las slacks"
   ]
  },
  {
   "cell_type": "code",
   "execution_count": null,
   "metadata": {},
   "outputs": [],
   "source": [
    "index_of_chosen = np.where(x_opt == 1)[0] # retorna los indices de los items elegidos.\n",
    "output_df = df.iloc[index_of_chosen]\n",
    "print(\"-------------------------------------\")\n",
    "print(\"Choosen items are: \")\n",
    "print(output_df)\n",
    "print(\"-------------------------------------\")"
   ]
  },
  {
   "attachments": {},
   "cell_type": "markdown",
   "metadata": {},
   "source": [
    "Para resolver esta version del problema, con un $n$ items, un peso maximo de $W$ y un volumen maximo de $A$, se necesitan:\n",
    "\n",
    "$N = n + L + M$ qbits\n",
    "\n",
    "Donde\n",
    "\n",
    "$$L = \\lfloor log_2(W)\\rfloor + 1$$\n",
    "$$M = \\lfloor log_2(A)\\rfloor + 1$$\n",
    "\n",
    "Son la cantidad de variables de slack agregadas para las restricciones de peso y volumen respectivamente."
   ]
  }
 ],
 "metadata": {
  "kernelspec": {
   "display_name": "Python 3",
   "language": "python",
   "name": "python3"
  },
  "language_info": {
   "codemirror_mode": {
    "name": "ipython",
    "version": 3
   },
   "file_extension": ".py",
   "mimetype": "text/x-python",
   "name": "python",
   "nbconvert_exporter": "python",
   "pygments_lexer": "ipython3",
   "version": "3.10.7"
  },
  "orig_nbformat": 4,
  "vscode": {
   "interpreter": {
    "hash": "369f2c481f4da34e4445cda3fffd2e751bd1c4d706f27375911949ba6bb62e1c"
   }
  }
 },
 "nbformat": 4,
 "nbformat_minor": 2
}
