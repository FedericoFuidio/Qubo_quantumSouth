{
 "cells": [
  {
   "cell_type": "code",
   "execution_count": null,
   "metadata": {},
   "outputs": [],
   "source": [
    "import os\n",
    "import time\n",
    "import numpy as np\n",
    "import pandas as pd\n",
    "import math\n",
    "from utils import *\n",
    "import dimod\n",
    "import warnings\n",
    "import matplotlib.pyplot as plt\n",
    "warnings.filterwarnings('ignore')"
   ]
  },
  {
   "cell_type": "markdown",
   "metadata": {
    "id": "MdsNAvSGFuiM"
   },
   "source": [
    "# Sampleset de dwave\n",
    "\n",
    "En este cuaderno se resolverá un problema formulado en formato QUBO, utilizando el simulador de annealing térmico de Dwave."
   ]
  },
  {
   "cell_type": "markdown",
   "metadata": {
    "id": "XVG7PL8ZGcwZ"
   },
   "source": [
    "El annealing simulado de dwave recibe una matriz $Q$ e *intenta* minimizar la expresión cuadrática una cierta cantidad $n = shots$ de veces. \n",
    "\n",
    "Luego, retorna un array de largo $n$ de la forma:\n",
    "\n",
    "$$[(x_1, energia_1), (x_2, energia_2) , \\dots, (x_{n}, energia_n)]$$ \n",
    "\n",
    "donde tenemos en $x$ el vector, y en $energia$ su energia asociada. \n",
    "\n",
    "> __El vector $x$ de menor energia, será (en teoria) nuestra solucion al problema.__\n",
    "\n"
   ]
  },
  {
   "cell_type": "code",
   "execution_count": null,
   "metadata": {
    "executionInfo": {
     "elapsed": 345,
     "status": "ok",
     "timestamp": 1669907456981,
     "user": {
      "displayName": "Ariel mordetzki",
      "userId": "11375042184000331705"
     },
     "user_tz": 180
    },
    "id": "ZnSJfg2kFk3A"
   },
   "outputs": [],
   "source": [
    "def lowest_energy(sampleset):  # Finds the lowest energy solution\n",
    "    \n",
    "    # Description: given a full sampleset (tuples of the form (solution, energy) finds the lowest energy SAMPLE.\n",
    "    # INPUTS:\n",
    "    # Sampleset: a sampleset of the form list((solution, energy))\n",
    "\n",
    "    # OUTPUTS:\n",
    "    # best: a tuple of the form (solution, energy)\n",
    "\n",
    "    if len(sampleset):\n",
    "        #energies = np.array(sampleset)[:, 1]  # energias\n",
    "        energies = [row[1] for row in sampleset]\n",
    "        index = np.argmin(energies)  # indice de la de menor energia\n",
    "        ret = sampleset[index]  # solucion de menor energia\n",
    "        return ret\n",
    "\n",
    "    else:\n",
    "        return None"
   ]
  },
  {
   "cell_type": "markdown",
   "metadata": {
    "id": "x24Xv5VPHqCF"
   },
   "source": [
    "## Funciones de checkeo\n",
    "\n",
    "Debido a errores cuánticos (incluidos en el simulador), muchos de los posibles $x$ no cumplirán la restricción de peso. \n",
    "\n",
    "> Para ello, debemos hacer funciones de checkeo y filtrado del sampleset\n",
    "\n",
    "Debemos checkear dos cosas:\n",
    "* Que se respete la restriccion de peso\n",
    "* Que se prendan correctamente las slacks para representar el $W$\n",
    "\n",
    "Si las slacks no se prenden correctamente, $W$ queda mal representado en el QUBO, de tal forma que podría pasar que se cumplan las restricciones de peso, pero los valores de energia queden no representativos de la realidad."
   ]
  },
  {
   "cell_type": "markdown",
   "metadata": {
    "id": "kzCQeSJHI90h"
   },
   "source": [
    "Para checkear las slacks:\n",
    "\n",
    "> Dado un $x$ fijarnos si la suma del peso que cargo + el numero binario representado por las slacks es igual al peso máximo permitido. "
   ]
  },
  {
   "cell_type": "code",
   "execution_count": null,
   "metadata": {
    "executionInfo": {
     "elapsed": 8,
     "status": "ok",
     "timestamp": 1669907457262,
     "user": {
      "displayName": "Ariel mordetzki",
      "userId": "11375042184000331705"
     },
     "user_tz": 180
    },
    "id": "OjkrmuErGWwZ"
   },
   "outputs": [],
   "source": [
    "def wrong_slack(sample, max_weight, weights, num_slack):\n",
    "    \n",
    "    # INPUTS:\n",
    "    # Sample (list): vector x que queremos checkear\n",
    "    # max_weight (int): peso máximo\n",
    "    # weights (list): lista de pesos\n",
    "    # num_slack (int): cantidad de slacks para representar max_weight\n",
    "    \n",
    "    # OUTPUTS:\n",
    "    # False si la solucion es incorrecta\n",
    " \n",
    "    ret = False  # valid solution if true\n",
    "\n",
    "    # creamos el vector \"vect\" de slacks teorico, mencionado en el cuaderno de jupyter \"qubo.ipynb\"\n",
    "\n",
    "    pesosSlacks = 2 ** (np.arange(num_slack - 1))\n",
    "    pesosSlacks = np.r_[pesosSlacks, max_weight - sum(pesosSlacks)]\n",
    "    vect = np.r_[-weights, pesosSlacks] # nos sirve para checkear ACA TAMBIEN CAMBIO SIGNO\n",
    "    solWeightSlack = sample * vect \n",
    "\n",
    "\n",
    "    ws = sum(solWeightSlack) # en ws queda guardado la suma de los pesos cargados + el numero que representan las slacks\n",
    "    print(\"ws = \", ws)\n",
    "    #if abs(ws - max_weight) > 0.001\n",
    "    if abs(ws) > 0.001: # si la diferencia es casi 0... #DICE MAYOR EN CODIGO ORIGINAL\n",
    "        ret = True # las slacks se prendieron correctamente\n",
    "    return ret\n",
    "\n",
    "\n",
    "def check_weight(sample, max_weight, weights, num_slack):\n",
    "    # Description:\n",
    "    # \n",
    "\n",
    "    # INPUTS:\n",
    "    # Sample (list): vector x que queremos checkear\n",
    "    # max_weight (int): peso máximo\n",
    "    # weights (list): lista de pesos\n",
    "    # num_slack (int): cantidad de slacks para representar max_weight\n",
    "    # OUPUTS:\n",
    "    # True if solution checks weights inequality, False otherwise\n",
    "\n",
    "    ret = True\n",
    "    error_slack = wrong_slack(sample, max_weight, weights, num_slack)\n",
    "    sample = sample[0:len(sample) - (num_slack)]  # Me quedo con la solucion, ya no me sirven las slacks\n",
    "\n",
    "    loaded_weight = sum(sample * weights)\n",
    "\n",
    "    if error_slack:  # si hay error en las slacks, ya descarto de una\n",
    "        print(\"weight slack  error\")\n",
    "        ret = False\n",
    "    else:  # si no hay error en las slacks, me fijo el peso cargado\n",
    "        if loaded_weight > loaded_weight:\n",
    "            ret = False\n",
    "            print(\"weigh exceeded\")\n",
    "\n",
    "    return ret"
   ]
  },
  {
   "cell_type": "markdown",
   "metadata": {},
   "source": [
    "# Funciones de simulacion\n",
    "\n",
    "Esta función instancia un simulador de dwave y retorna un sampleset (recordar, lista de x y energías)  de tamaño \"shots\".\n",
    "\n",
    ">La funcion retornará valores diferentes de $x$. A veces no se observan \" $n = shots$\" soluciones, sino algunas menos. \n"
   ]
  },
  {
   "cell_type": "code",
   "execution_count": null,
   "metadata": {
    "executionInfo": {
     "elapsed": 7,
     "status": "ok",
     "timestamp": 1669907457262,
     "user": {
      "displayName": "Ariel mordetzki",
      "userId": "11375042184000331705"
     },
     "user_tz": 180
    },
    "id": "lbxJls2CFuGx"
   },
   "outputs": [],
   "source": [
    "def sendToDwave(qubo, shots=100):\n",
    "    # Description: functions that solves a particular qubo problem\n",
    "\n",
    "    # INPUT:\n",
    "    # qubo: (matrix) representation of the xt*Q*x problem\n",
    "\n",
    "    # OUTPUT:\n",
    "    # sampleset: array of tuples of the form (solution, energy) of length \"shots\" containing posible (but not neccesarily feasible) solutions\n",
    "    \n",
    "    tic = time.perf_counter() # for time measuring\n",
    "    sampleset = dimod.SimulatedAnnealingSampler().sample_qubo(qubo, num_reads=shots)\n",
    "    sampleset = sampleset.aggregate() # solo agrega soluciones DIFERENTES. \n",
    "    sampleset = [(sample, energy) for sample, energy in zip(sampleset.record.sample, sampleset.record.energy)]\n",
    "    toc = time.perf_counter() # for time measuring\n",
    "    print(f\"Simmulating {shots} instances of annealing took: {(toc-tic)}s\")\n",
    "    # print(\"Sampleset sin filtrar: \", sampleset)\n",
    "    return sampleset"
   ]
  },
  {
   "cell_type": "markdown",
   "metadata": {},
   "source": [
    "# Funcion de filtrado\n",
    "\n",
    "Dado un sampleset, debemos utilizar las funciones de checkeo definidas anteriormente para descartar soluciones inválidas. "
   ]
  },
  {
   "cell_type": "code",
   "execution_count": null,
   "metadata": {
    "executionInfo": {
     "elapsed": 8,
     "status": "ok",
     "timestamp": 1669907457263,
     "user": {
      "displayName": "Ariel mordetzki",
      "userId": "11375042184000331705"
     },
     "user_tz": 180
    },
    "id": "Z8dXY_LmGboc"
   },
   "outputs": [],
   "source": [
    "def filterKnapSampleset(sampleset,  max_weight, weights,  num_slack):\n",
    "    # Description:\n",
    "    # given a FULL SAMPLESET for knapsack problem, filters the invalid samplesets\n",
    "\n",
    "    # INPUTS:\n",
    "    # sampleset: raw sampleset (list of tuples) returned from dwave sampler, the structure is: (solution, energy)\n",
    "    # max_weight: (int) maximum weight\n",
    "    # weights (list): lista de pesos\n",
    "    # num_slack (int): cantidad de slacks para representar max_weight\n",
    "    \n",
    "\n",
    "    # OUTPUTS:\n",
    "    # feasibleSamples: sampleset (list tuples) with the valid solutions, the structure is: (validSolution, energy)\n",
    "\n",
    "    feasibleSamples = []\n",
    "    cantidadValidas = 0\n",
    "\n",
    "    i = 0\n",
    "    for sample, energy in sampleset:\n",
    "        print(\"-----------------------\")\n",
    "        print(\"Checking solution: \", i)\n",
    "\n",
    "        weightRespected = check_weight(sample, max_weight, weights, num_slack)  # weightFlag\n",
    "\n",
    "        if weightRespected:  # if sample is valid:\n",
    "            print(\"valid solution\")\n",
    "            feasibleSamples.append((sample, energy))\n",
    "            cantidadValidas = cantidadValidas + 1\n",
    "        i = i + 1\n",
    "    return feasibleSamples"
   ]
  },
  {
   "cell_type": "markdown",
   "metadata": {},
   "source": [
    "# Resolución del problema de knapsack"
   ]
  },
  {
   "cell_type": "code",
   "execution_count": null,
   "metadata": {
    "colab": {
     "base_uri": "https://localhost:8080/"
    },
    "executionInfo": {
     "elapsed": 7,
     "status": "ok",
     "timestamp": 1669907457263,
     "user": {
      "displayName": "Ariel mordetzki",
      "userId": "11375042184000331705"
     },
     "user_tz": 180
    },
    "id": "GHwmKj96K4Cf",
    "outputId": "d197dc29-611c-4e82-bf07-0eb373f733c8"
   },
   "outputs": [],
   "source": [
    "# Creamos la misma instancia de knapsack\n",
    "\n",
    "profits = np.array([18, 15, 10, 10, 18])\n",
    "weights = np.array([19, 13, 10, 17, 10])\n",
    "profits = np.array([10, 5, 7, 13])\n",
    "weights = np.array([4, 3, 5, 7])\n",
    "data = dict({'weight': weights,'profit': profits})\n",
    "num_items = len(profits)\n",
    "max_weight = int(np.floor(num_items / 2 * np.mean(weights)))\n",
    "max_weight = 12\n",
    "df = pd.DataFrame(data)\n",
    "print(\"-------------------------------------\")\n",
    "print(\"Choose items from: \\n \")\n",
    "print(df)\n",
    "print(f\"with a max weight of: {max_weight}\\n \")\n",
    "print(\"-------------------------------------\")"
   ]
  },
  {
   "cell_type": "code",
   "execution_count": null,
   "metadata": {
    "colab": {
     "base_uri": "https://localhost:8080/"
    },
    "executionInfo": {
     "elapsed": 6,
     "status": "ok",
     "timestamp": 1669907457263,
     "user": {
      "displayName": "Ariel mordetzki",
      "userId": "11375042184000331705"
     },
     "user_tz": 180
    },
    "id": "iKHQHiALK8tq",
    "outputId": "9430cdab-6f9e-409c-b4de-1d8deeb1720c"
   },
   "outputs": [],
   "source": [
    "# Calculamos la cantidad de slacks\n",
    "num_slack = int(math.trunc(np.log2(max_weight))) + 1\n",
    "print(\"Cantidad de slacks de peso: \", num_slack)"
   ]
  },
  {
   "cell_type": "code",
   "execution_count": null,
   "metadata": {
    "colab": {
     "base_uri": "https://localhost:8080/"
    },
    "executionInfo": {
     "elapsed": 10,
     "status": "ok",
     "timestamp": 1669907457677,
     "user": {
      "displayName": "Ariel mordetzki",
      "userId": "11375042184000331705"
     },
     "user_tz": 180
    },
    "id": "ESJjCSw9LDmr",
    "outputId": "8599efb4-6e1b-4711-a0d4-01a75a74841b"
   },
   "outputs": [],
   "source": [
    "# Formulacion del problema\n",
    "q_objetivo = get_Q_objetivo(profits, num_slack)\n",
    "print(\"Matriz q_objetivo: \\n\", q_objetivo)"
   ]
  },
  {
   "cell_type": "code",
   "execution_count": null,
   "metadata": {
    "colab": {
     "base_uri": "https://localhost:8080/"
    },
    "executionInfo": {
     "elapsed": 10,
     "status": "ok",
     "timestamp": 1669907457678,
     "user": {
      "displayName": "Ariel mordetzki",
      "userId": "11375042184000331705"
     },
     "user_tz": 180
    },
    "id": "JoablRKQLE0h",
    "outputId": "8cc03152-2c0b-4f1f-d935-e0458d2b3166"
   },
   "outputs": [],
   "source": [
    "q_peso = get_Q_Peso(max_weight, weights, num_slack)\n",
    "print(\"Matriz q_objetivo: \\n\", q_peso)"
   ]
  },
  {
   "cell_type": "code",
   "execution_count": null,
   "metadata": {
    "colab": {
     "base_uri": "https://localhost:8080/"
    },
    "executionInfo": {
     "elapsed": 8,
     "status": "ok",
     "timestamp": 1669907457678,
     "user": {
      "displayName": "Ariel mordetzki",
      "userId": "11375042184000331705"
     },
     "user_tz": 180
    },
    "id": "ig45kGLxLGUT",
    "outputId": "09f95a61-5d04-4d85-e109-09cf2f56eeb5"
   },
   "outputs": [],
   "source": [
    "# Armamos el modelo:\n",
    "\n",
    "alpha = 1 #2/9\n",
    "qubo = -q_objetivo + alpha * q_peso\n",
    "\n",
    "\n",
    "print(\"Dimensiones del problema: \", qubo.shape)\n",
    "\n"
   ]
  },
  {
   "cell_type": "code",
   "execution_count": null,
   "metadata": {
    "colab": {
     "base_uri": "https://localhost:8080/"
    },
    "executionInfo": {
     "elapsed": 9400,
     "status": "ok",
     "timestamp": 1669907467072,
     "user": {
      "displayName": "Ariel mordetzki",
      "userId": "11375042184000331705"
     },
     "user_tz": 180
    },
    "id": "8gJZRWJ7LHwv",
    "outputId": "13e1c3e7-70a6-44be-c256-62535676ba53"
   },
   "outputs": [],
   "source": [
    "\n",
    "print(\"simmulating....\")\n",
    "sampleset = sendToDwave(qubo)\n",
    "print(\"Filtering:\")\n",
    "feasibleSampleset = filterKnapSampleset(sampleset,  max_weight, weights,  num_slack)\n",
    "plt.bar([(str(el[1]+alpha*max_weight**2)) for el in sampleset], [(el[1]+alpha*max_weight**2) for el in sampleset])\n",
    "plt.xticks(rotation = 90)\n",
    "plt.show()\n",
    "bestSample = lowest_energy(feasibleSampleset)\n",
    "print(sampleset)\n",
    "solution = bestSample[0]\n",
    "x_opt = solution[0:num_items] # le saco las slacks\n",
    "\n"
   ]
  },
  {
   "cell_type": "code",
   "execution_count": null,
   "metadata": {
    "colab": {
     "base_uri": "https://localhost:8080/"
    },
    "executionInfo": {
     "elapsed": 15,
     "status": "ok",
     "timestamp": 1669907467073,
     "user": {
      "displayName": "Ariel mordetzki",
      "userId": "11375042184000331705"
     },
     "user_tz": 180
    },
    "id": "TnmwOMEVOp3R",
    "outputId": "1897acbe-9473-4a14-d918-38004d0eef65"
   },
   "outputs": [],
   "source": [
    "\n",
    "index_of_chosen = np.where(x_opt == 1)[0] # retorna los indices de los items elegidos.\n",
    "output_df = df.iloc[index_of_chosen]\n",
    "print(\"-------------------------------------\")\n",
    "print(\"Choosen items are: \")\n",
    "print(output_df)\n",
    "print(\"-------------------------------------\")"
   ]
  },
  {
   "cell_type": "markdown",
   "metadata": {
    "id": "TxpCvNy_PjnI"
   },
   "source": [
    "La solucion fue la misma que en el knapsack lineal.\n",
    "> Hay que tener en cuenta que se simularon 100 instancias de annealing simulado. La heuristica de cvxpy es mas rapida porque ya esta asociada al problema, aqui simulamos una computadora cuantica, por eso tarda\n",
    "\n",
    "> Teoricamente, si no hubiese error cuantico, con un solo shot alcancaría, y en una computadora cuantica el tiempo de resolución seria de un tiempo adiabático. "
   ]
  }
 ],
 "metadata": {
  "colab": {
   "authorship_tag": "ABX9TyMjxANrwy+xjJtvjVil5Szt",
   "provenance": []
  },
  "kernelspec": {
   "display_name": "Python 3.10.7 64-bit",
   "language": "python",
   "name": "python3"
  },
  "language_info": {
   "codemirror_mode": {
    "name": "ipython",
    "version": 3
   },
   "file_extension": ".py",
   "mimetype": "text/x-python",
   "name": "python",
   "nbconvert_exporter": "python",
   "pygments_lexer": "ipython3",
   "version": "3.10.7"
  },
  "vscode": {
   "interpreter": {
    "hash": "369f2c481f4da34e4445cda3fffd2e751bd1c4d706f27375911949ba6bb62e1c"
   }
  }
 },
 "nbformat": 4,
 "nbformat_minor": 1
}
