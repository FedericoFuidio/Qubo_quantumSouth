{
 "cells": [
  {
   "attachments": {},
   "cell_type": "markdown",
   "metadata": {},
   "source": [
    "# Knapsack con restriccion en el grafo:\n",
    "\n",
    "Imaginemos ahora que tenemos que resolver en nuestra computadora un qbit solo puede interactuar con otros $n$ qubits. Matematicamente, decimos que se da una interaccion si en en la funcion objetivo, el coeficiente que multiplica a $x_ix_j$ es distinto de $0$.\n",
    "Por convencion al decir que el limite es $n$ no se contabiliza la interaccion de $x_i$ con el mismo\n",
    "\n",
    "### Relacionar variables:\n",
    "\n",
    "La forma de resolver este problema, es relacionando variables. Si ponemos una penalizacion a\n",
    "\n",
    "$$(x_i^1 + x_i^2 - x_i^1x_i^2)^2$$\n",
    "\n",
    "Esto hara que $x_i^1 = x_i^2$. A partir de ahora podemos tratar a estas dos variables como una unica variable. Notemos que tanto $x_i^1$ como $x_i^2$ se pueden relacionar con $n-1$ variables, asi que en su conjunto se pueden relacionar con $2n - 2$ variables.\n",
    "\n",
    "#\n",
    "\n",
    "Si $n > 2$, entonces $2n - 2 > n$ y ganamos al menos una variable mas.\n",
    "\n",
    "#\n",
    "\n",
    "Si estas $2n - 2$ variables no alcanzan, podemos relacionar $x_i^2$ con otra variable $x_i^3$, teniendo ahora $3$ variables relacionadas, y $3n - 4$ conexiones libres:\n",
    "\n",
    "#\n",
    "\n",
    "Entre $x_i^1$ y $x_i^3$ tienen $2n -2$ conexiones, y $x_i^2$ tiene $n - 2$ conexiones mas.\n",
    "\n",
    "#\n",
    "\n",
    "Siguiendo este proceso, correlacionando $k$ variables con este metodo, se llegan a:\n",
    "\n",
    "$$C_k = 2n - 2 + (k - 2)(n - 2) = kn - (2k + 2) = C_{k-1} + (n - 2)$$\n",
    "\n",
    "conexiones. Si $n > 2$ entonces $C_{k} > C_{k-1}$, por lo al aumentar las variables correlacionadas, podemos aumentar arbitrariamente las conexiones posibles."
   ]
  },
  {
   "attachments": {},
   "cell_type": "markdown",
   "metadata": {},
   "source": [
    "### Ejemplo problema de Knapsack:\n",
    "\n",
    "Vamos a resolver el problema de Knapscak clasico, con la restriccion de que el maximo de conexiones posibles es $n = 5$"
   ]
  },
  {
   "cell_type": "code",
   "execution_count": null,
   "metadata": {},
   "outputs": [],
   "source": [
    "import os\n",
    "import time\n",
    "import numpy as np\n",
    "import pandas as pd\n",
    "import math\n",
    "from utils import *\n",
    "import dimod\n",
    "import warnings\n",
    "import matplotlib.pyplot as plt\n",
    "from functions_dwave import *\n",
    "warnings.filterwarnings('ignore')"
   ]
  },
  {
   "cell_type": "code",
   "execution_count": null,
   "metadata": {},
   "outputs": [],
   "source": [
    "# Creamos una instancia de problema knapsack para trabajar\n",
    "profits = np.array([18, 15, 10, 10, 18])\n",
    "weights = np.array([19, 13, 10, 17, 10])\n",
    "data = dict({'weight': weights,'profit': profits})\n",
    "num_items = len(profits)\n",
    "max_weight = int(np.floor(num_items / 2 * np.mean(weights)))\n",
    "connections = 5 # Maximo posible de conexiones\n",
    "df = pd.DataFrame(data)\n",
    "print(\"-------------------------------------\")\n",
    "print(\"Choose items from: \\n \")\n",
    "print(df)\n",
    "print(f\"with a max weight of: {max_weight}\\n \")\n",
    "print(\"-------------------------------------\")"
   ]
  },
  {
   "cell_type": "code",
   "execution_count": null,
   "metadata": {},
   "outputs": [],
   "source": [
    "# Generacion de q_objetivo\n",
    "num_slack = int(np.floor(np.log2(max_weight))) + 1\n",
    "q_objetivo = np.diag(np.r_[profits, np.zeros(num_slack)])\n",
    "print(q_objetivo)"
   ]
  },
  {
   "attachments": {},
   "cell_type": "markdown",
   "metadata": {},
   "source": [
    "#### Hasta ahora solo tenemos una matriz diagonal, no gastamos conexiones. Como veremos a continuacion, Q_restriccion si va a generar un problema\n",
    "\n",
    "Primero, veamos cuantes conexiones agregar por variable. $vect$ tiene potencialmente tantas entradas no nulas como su dimension. Cada variable se relacionara asi con $d - 1$ variables, si $d$ es la dimension de $vect$.\n",
    "\n",
    "#\n",
    "\n",
    "Para ver cuantas variables relacionar por cada variable original, debemos encontrar un $k$ tal que:\n",
    "\n",
    "$$kn - (2k + 2) \\geq d - 1$$\n",
    "$$k \\geq \\frac{d + 1}{n - 2}$$\n",
    "\n",
    "Tomamos asi $k$ como:\n",
    "\n",
    "$$k = \\left\\lfloor \\frac{d + 1}{n - 2} \\right\\rfloor + 1$$\n",
    "\n",
    "Recordemos que $n$ es el numero maximo de conexiones"
   ]
  },
  {
   "cell_type": "code",
   "execution_count": null,
   "metadata": {},
   "outputs": [],
   "source": [
    "# Generacion de q_restriccion:\n",
    "pesosSlacks = (2 ** (np.arange(num_slack - 1))).astype(float)\n",
    "pesosSlacks = np.r_[pesosSlacks, max_weight - sum(pesosSlacks)] # revisar esto.\n",
    "vect = np.r_[weights, pesosSlacks]\n",
    "q_restriccion = np.outer(vect, vect) - 2 * max_weight * np.diag(vect)\n",
    "\n",
    "\n",
    "print(q_restriccion)"
   ]
  },
  {
   "cell_type": "code",
   "execution_count": null,
   "metadata": {},
   "outputs": [],
   "source": [
    "variables = len(vect)\n",
    "qbits_relations = int(np.floor((variables + 1)/(connections - 2))) + 1\n",
    "print(qbits_relations)\n",
    "\n",
    "# La matriz para la relacion de cada qbit tendra una diagonal principal de 2 y -1's en las secundarias.\n",
    "# Construimos una de esta matriz, de qbits_relations x qbits_relations y hacemos un producto de Kronnecker:\n",
    "\n",
    "q_relation_unitaria = 2 * np.diag(np.ones(qbits_relations)) - np.diag(np.ones(qbits_relations - 1), 1) - np.diag(np.ones(qbits_relations - 1), -1)\n",
    "print(q_relation_unitaria)\n",
    "\n",
    "# Repetimos el patron, una vez por cada variable\n",
    "q_relations = np.kron(np.identity(variables), q_relation_unitaria)"
   ]
  },
  {
   "attachments": {},
   "cell_type": "markdown",
   "metadata": {},
   "source": [
    "### Redimensionamiento de matrices:\n",
    "\n",
    "Ahora las matrices $Q_{objetivo}$ y $Q_{restriccion}$ no estan bien dimensionadas. Necesitamos ampliar ambas en $k$.\n",
    "\n",
    "#\n",
    "\n",
    "Ampliar $Q_{objetivo}$ es relativamente facil, debemos poner los mismos elementos en la diagonal, dejando ahora un espacio de $k$ ceros entre un elemento original y otro:"
   ]
  },
  {
   "cell_type": "code",
   "execution_count": 40,
   "metadata": {},
   "outputs": [
    {
     "name": "stdout",
     "output_type": "stream",
     "text": [
      "[18.  0.  0.  0.  0. 15.  0.  0.  0.  0. 10.  0.  0.  0.  0. 10.  0.  0.\n",
      "  0.  0. 18.  0.  0.  0.  0.]\n",
      "(55, 55)\n",
      "(55, 55)\n"
     ]
    }
   ],
   "source": [
    "# Ampliacion de la matriz Q_objetivo:\n",
    "profits_expanded = profits\n",
    "new_nums = np.zeros(qbits_relations + (qbits_relations-1)*(qbits_relations-1))\n",
    "new_nums[::qbits_relations] = profits_expanded\n",
    "new_nums = np.r_[new_nums, np.array(np.zeros(qbits_relations-1))]\n",
    "print(new_nums)\n",
    "\n",
    "# Agregamos ademas qbits_relations * num_slacks ceros:\n",
    "q_objetivo = np.diag(np.r_[new_nums, np.zeros(qbits_relations * num_slack)])\n",
    "\n",
    "# Si esta bien, al menos deberian tener las mismas dimensiones:\n",
    "print(np.shape(q_objetivo))\n",
    "print(np.shape(q_relations))\n",
    "\n"
   ]
  },
  {
   "attachments": {},
   "cell_type": "markdown",
   "metadata": {},
   "source": [
    "Ampliar $Q_{restriccion}$ es mas dificil, pero se puede realizar de la siguiente forma:"
   ]
  },
  {
   "cell_type": "code",
   "execution_count": null,
   "metadata": {},
   "outputs": [],
   "source": []
  }
 ],
 "metadata": {
  "kernelspec": {
   "display_name": "Python 3",
   "language": "python",
   "name": "python3"
  },
  "language_info": {
   "codemirror_mode": {
    "name": "ipython",
    "version": 3
   },
   "file_extension": ".py",
   "mimetype": "text/x-python",
   "name": "python",
   "nbconvert_exporter": "python",
   "pygments_lexer": "ipython3",
   "version": "3.10.7"
  },
  "orig_nbformat": 4,
  "vscode": {
   "interpreter": {
    "hash": "369f2c481f4da34e4445cda3fffd2e751bd1c4d706f27375911949ba6bb62e1c"
   }
  }
 },
 "nbformat": 4,
 "nbformat_minor": 2
}
