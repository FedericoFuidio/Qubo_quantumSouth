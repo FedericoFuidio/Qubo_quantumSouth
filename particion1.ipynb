{
 "cells": [
  {
   "attachments": {},
   "cell_type": "markdown",
   "metadata": {},
   "source": [
    "# Particion:\n",
    "\n",
    "Dado un conjunto $S = \\{a_1, a_2, \\dots, a_N\\}$ queremos encontrar dos conjuntos $S_1$ y $S_2$ de forma tal que:\n",
    "\n",
    "$S_1$ y $S_2$ particionen S, es decir:\n",
    "\n",
    "$$S_1 \\cup S_2 = S$$\n",
    "$$S_1 \\cap S_2 = \\empty$$\n",
    "\n",
    "Y que la suma de los elementos de $S_1$ sea igual (o en su defecto lo mas parecida posible) a la suma de los elementos en $S_2$\n",
    "\n",
    "El primer modelo que se implementara es el siguiente:\n",
    "\n",
    "$$x_i = \\left\\{ \\begin{array}{lcc}\n",
    "             1 & si & a_i \\in S_1 \\\\\n",
    "             \\\\ 0 & si & a_i \\notin S_1 \\\\\n",
    "             \\end{array}\n",
    "   \\right.$$\n",
    "\n",
    "$\\sum_{s \\in S_1} s = \\sum_{i} a_ix_i \\Rightarrow$ minimizamos $\\left(\\sum_{i} a_ix_i - \\frac{P}{2}\\right)^2$\n",
    "\n",
    "por lo que la matriz $Q$ sera:\n",
    "\n",
    "$$Q = a^ta - PI_Na$$\n",
    "\n",
    "Donde:\n",
    "\n",
    "$$a = [a_1, a_2, \\dots, a_N]$$\n",
    "\n",
    "Y $P$ es la suma de todos los elementos en $S$:\n",
    "\n",
    "$$P = \\sum_{s_i \\in S} s_i$$\n"
   ]
  },
  {
   "cell_type": "code",
   "execution_count": null,
   "metadata": {},
   "outputs": [],
   "source": [
    "import os\n",
    "import time\n",
    "import numpy as np\n",
    "import pandas as pd\n",
    "import math\n",
    "from utils import *\n",
    "import dimod\n",
    "import warnings\n",
    "import matplotlib.pyplot as plt\n",
    "from functions_dwave import *\n",
    "warnings.filterwarnings('ignore')"
   ]
  },
  {
   "cell_type": "code",
   "execution_count": null,
   "metadata": {},
   "outputs": [],
   "source": [
    "set = np.array([3, 1, 1, 2, 2, 1])\n",
    "set = np.array([7, 15, 3, 2, 5, 5, 10, 7])\n",
    "suma = sum(set)\n",
    "data = dict({'set': set})\n",
    "df = pd.DataFrame(data)\n",
    "print(\"-------------------------------------\")\n",
    "print(\"Partition the set: \\n \")\n",
    "print(df)\n",
    "print(\"With total sum of: \", suma)"
   ]
  },
  {
   "cell_type": "code",
   "execution_count": null,
   "metadata": {},
   "outputs": [],
   "source": [
    "#matriz cubo:\n",
    "qubo = np.outer(set, set) - suma * np.diag(set)\n",
    "print(\"Matriz objetivo:\\n\")\n",
    "print(qubo)"
   ]
  },
  {
   "cell_type": "code",
   "execution_count": null,
   "metadata": {},
   "outputs": [],
   "source": [
    "# Enviamos problema a Dwave:\n",
    "print(\"simmulating....\")\n",
    "sampleset = sendToDwave(qubo, 100)\n",
    "print(\"Filtering:\")\n",
    "# Nos quedamos con la solucion que minimiza la energia:\n",
    "energies = [element[1] for element in sampleset]\n",
    "solution = sampleset[energies.index(min(energies))][0] # Le saco la energia\n",
    "print(solution)\n",
    "plt.bar([(str(el[1])) for el in sampleset], [(el[1]) for el in sampleset])\n",
    "plt.xticks(rotation = 90)\n",
    "plt.show()"
   ]
  },
  {
   "cell_type": "code",
   "execution_count": null,
   "metadata": {},
   "outputs": [],
   "source": [
    "\n",
    "index_of_chosen = np.where(solution == 1)[0] # retorna los indices de los items elegidos.\n",
    "set2 = np.ones(len(set)) - solution\n",
    "index_of_chosen_set2 = np.where(set2 == 1)[0]\n",
    "output_df = df.iloc[index_of_chosen]\n",
    "output_df_set2 = df.iloc[index_of_chosen_set2]\n",
    "print(\"-------------------------------------\")\n",
    "print(\"Choosen items in Set 1 are: \")\n",
    "print(output_df)\n",
    "print(\"-------------------------------------\")\n",
    "print(\"-------------------------------------\")\n",
    "print(\"Choosen items in Set 2 are: \")\n",
    "print(output_df_set2)\n",
    "print(\"-------------------------------------\")\n",
    "\n",
    "sum_set_1 = np.dot(set, solution)\n",
    "sum_set_2 = suma - sum_set_1\n",
    "print(\"Suma del primer conjunto = \", sum_set_1)\n",
    "print(\"Suma del segundo conjunto = \", sum_set_2)"
   ]
  }
 ],
 "metadata": {
  "kernelspec": {
   "display_name": "Python 3",
   "language": "python",
   "name": "python3"
  },
  "language_info": {
   "codemirror_mode": {
    "name": "ipython",
    "version": 3
   },
   "file_extension": ".py",
   "mimetype": "text/x-python",
   "name": "python",
   "nbconvert_exporter": "python",
   "pygments_lexer": "ipython3",
   "version": "3.10.7"
  },
  "orig_nbformat": 4,
  "vscode": {
   "interpreter": {
    "hash": "369f2c481f4da34e4445cda3fffd2e751bd1c4d706f27375911949ba6bb62e1c"
   }
  }
 },
 "nbformat": 4,
 "nbformat_minor": 2
}
