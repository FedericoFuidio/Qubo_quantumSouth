{
 "cells": [
  {
   "attachments": {},
   "cell_type": "markdown",
   "metadata": {},
   "source": [
    "## Agregamos ahora otra funcion objetivo para que cada conjunto tenga un tamaño similar"
   ]
  },
  {
   "cell_type": "code",
   "execution_count": null,
   "metadata": {},
   "outputs": [],
   "source": [
    "import os\n",
    "import time\n",
    "import numpy as np\n",
    "import pandas as pd\n",
    "import math\n",
    "from utils import *\n",
    "import dimod\n",
    "import warnings\n",
    "import matplotlib.pyplot as plt\n",
    "from functions_dwave import *\n",
    "warnings.filterwarnings('ignore')"
   ]
  },
  {
   "cell_type": "code",
   "execution_count": null,
   "metadata": {},
   "outputs": [],
   "source": [
    "# Creamos una instancia del problema\n",
    "set = np.array([3, 1, 1, 2, 2, 1])\n",
    "set = np.array([7, 15, 3, 2, 5, 5, 10, 7])\n",
    "suma = sum(set)\n",
    "size = len(set)\n",
    "data = dict({'set': set})\n",
    "df = pd.DataFrame(data)\n",
    "print(\"-------------------------------------\")\n",
    "print(\"Partition the set: \\n \")\n",
    "print(df)\n",
    "print(\"With total sum of: \", suma)"
   ]
  },
  {
   "cell_type": "code",
   "execution_count": null,
   "metadata": {},
   "outputs": [],
   "source": [
    "# q_sum hace que la suma de los dos conjuntos sea similar. q_size que los conjuntos tengan dimensiones similares\n",
    "q_sum = np.outer(set, set) - suma * np.diag(set)\n",
    "q_size = np.ones((size, size)) - size * np.identity(size)\n",
    "\n",
    "alpha = 1\n",
    "beta = 15\n",
    "qubo = alpha * q_sum + beta * q_size\n",
    "print(\"Matriz objetivo:\\n\")\n",
    "print(qubo)"
   ]
  },
  {
   "cell_type": "code",
   "execution_count": null,
   "metadata": {},
   "outputs": [],
   "source": [
    "# Enviamos problema a Dwave:\n",
    "print(\"simmulating....\")\n",
    "sampleset = sendToDwave(qubo, 100)\n",
    "print(\"Filtering:\")\n",
    "# Nos quedamos con la solucion que minimiza la energia:\n",
    "energies = [element[1] for element in sampleset]\n",
    "solution = sampleset[energies.index(min(energies))][0] # Le saco la energia\n",
    "print(solution)\n",
    "\n",
    "\n",
    "plt.bar([(str(el[1])) for el in sampleset], [(el[1]) for el in sampleset])\n",
    "plt.xticks(rotation = 90)\n",
    "plt.show()"
   ]
  },
  {
   "cell_type": "code",
   "execution_count": null,
   "metadata": {},
   "outputs": [],
   "source": [
    "index_of_chosen = np.where(solution == 1)[0] # retorna los indices de los items elegidos.\n",
    "output_df = df.iloc[index_of_chosen]\n",
    "set2 = np.ones(len(set)) - solution\n",
    "index_of_chosen_set2 = np.where(set2 == 1)[0]\n",
    "output_df_set2 = df.iloc[index_of_chosen_set2]\n",
    "print(\"-------------------------------------\")\n",
    "print(\"Choosen items are: \")\n",
    "print(output_df)\n",
    "print(\"-------------------------------------\")\n",
    "print(\"-------------------------------------\")\n",
    "print(\"Choosen items in Set 2 are: \")\n",
    "print(output_df_set2)\n",
    "print(\"-------------------------------------\")\n",
    "\n",
    "sum_set_1 = np.dot(set, solution)\n",
    "sum_set_2 = suma - sum_set_1\n",
    "print(\"Suma del primer conjunto = \", sum_set_1)\n",
    "print(\"Suma del segundo conjunto = \", sum_set_2)"
   ]
  }
 ],
 "metadata": {
  "kernelspec": {
   "display_name": "Python 3",
   "language": "python",
   "name": "python3"
  },
  "language_info": {
   "codemirror_mode": {
    "name": "ipython",
    "version": 3
   },
   "file_extension": ".py",
   "mimetype": "text/x-python",
   "name": "python",
   "nbconvert_exporter": "python",
   "pygments_lexer": "ipython3",
   "version": "3.10.7"
  },
  "orig_nbformat": 4,
  "vscode": {
   "interpreter": {
    "hash": "369f2c481f4da34e4445cda3fffd2e751bd1c4d706f27375911949ba6bb62e1c"
   }
  }
 },
 "nbformat": 4,
 "nbformat_minor": 2
}
