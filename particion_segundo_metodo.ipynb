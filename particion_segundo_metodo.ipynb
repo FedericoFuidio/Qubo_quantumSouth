{
 "cells": [
  {
   "attachments": {},
   "cell_type": "markdown",
   "metadata": {},
   "source": [
    "## Veamos una forma distinta para abordar el problema de particiones:\n",
    "\n",
    "Si $S = \\{a_1, a_2, \\dots, a_N\\}$, asociamos a cada $a_i$ dos variables binarias:\n",
    "$$x_i = 1 \\iff a_i \\in S_1 $$\n",
    "$$y_i = 1 \\iff a_i \\in S_2$$\n",
    "\n",
    "Tenemos que agregar al modelo la restriccion de que:\n",
    "\n",
    "$$x_i + y_i = 1$$\n",
    "\n",
    "Esta restriccion la podemos representar con la siguiente matriz:\n",
    "\n",
    " \\begin{pmatrix}\n",
    "    -I_N & I_N & \\\\\n",
    "    I_N & -I_N &\n",
    "  \\end{pmatrix}\n",
    "\n",
    "Donde $I_N$ es la matriz identidad de $N \\times N$\n",
    "\n",
    "Las variables las ponemos en el siguiente vector: \n",
    "\n",
    "$$v = [x_1, x_2, \\dots, x_N, y_1, y_2, \\dots, y_N]$$\n",
    "\n",
    "Así, en la mitad izquierda de $v$ tendremos al conjunto $S_1$, y en la mitad derecha al conjunto $S_2$\n"
   ]
  },
  {
   "cell_type": "code",
   "execution_count": null,
   "metadata": {},
   "outputs": [],
   "source": [
    "import os\n",
    "import time\n",
    "import numpy as np\n",
    "import pandas as pd\n",
    "import math\n",
    "from utils import *\n",
    "import dimod\n",
    "import warnings\n",
    "import matplotlib.pyplot as plt\n",
    "from functions_dwave import *\n",
    "warnings.filterwarnings('ignore')"
   ]
  },
  {
   "cell_type": "code",
   "execution_count": null,
   "metadata": {},
   "outputs": [],
   "source": [
    "# Creamos una instancia del problema\n",
    "set = np.array([3, 1, 1, 2, 2, 1])\n",
    "set = np.array([7, 15, 3, 2, 5, 5, 10, 7])\n",
    "set = np.array([11, 5, 1, 5]) # Este array solo puede ser particionado de una forma\n",
    "set = np.array([1, 1, 1, 1, 1, 5, 10])\n",
    "#set = np.array([1, 2, 3, 4, 10])\n",
    "suma = sum(set)\n",
    "size = len(set)\n",
    "data = dict({'set': set})\n",
    "df = pd.DataFrame(data)\n",
    "print(\"-------------------------------------\")\n",
    "print(\"Partition the set: \\n \")\n",
    "print(df)\n",
    "print(\"With total sum of: \", suma)"
   ]
  },
  {
   "cell_type": "code",
   "execution_count": null,
   "metadata": {},
   "outputs": [],
   "source": [
    "id = np.identity(size)\n",
    "q_restriccion = np.row_stack((np.column_stack((-id, id)), np.column_stack((id, -id))))\n",
    "\n",
    "# Q_objetivo es la misma que en el modelo mas simple, solo agregamos ceros al final\n",
    "# para que las dimensiones de las dos matrices coincidan.\n",
    "vect = np.r_[set, np.zeros(size)]\n",
    "q_objetivo = np.outer(vect, vect) - suma * np.diag(vect)\n",
    "\n",
    "\n",
    "alpha = 1 # Elegimos una constante para el peso. Eventualmente hay que darle mas pienso\n",
    "beta = 1\n",
    "qubo = beta * q_objetivo + alpha * q_restriccion\n",
    "print(\"qubo: \\n\", qubo)"
   ]
  },
  {
   "cell_type": "code",
   "execution_count": null,
   "metadata": {},
   "outputs": [],
   "source": [
    "# Enviamos problema a Dwave:\n",
    "print(\"simmulating....\")\n",
    "# aggregate = True, va a agrupar soluciones iguales. Retorna tambien las ocurrencias de cada solucion\n",
    "sampleset = sendToDwave(qubo, 100, True)\n",
    "print(\"Filtering:\")\n",
    "# Nos quedamos con la solucion que minimiza la energia:\n",
    "energies = [element[1] for element in sampleset]\n",
    "solution = sampleset[energies.index(min(energies))][0] # Le saco la energia, solo me quedo con la solucion\n",
    "set_1 = solution[0:size]\n",
    "set_2 = solution[size:2*size]\n",
    "print(set_1)\n",
    "print(set_2)\n",
    "\n",
    "\n",
    "plt.bar([(str(el[1])) for el in sampleset], [(el[1]) for el in sampleset])\n",
    "plt.xticks(rotation = 90)\n",
    "plt.show()"
   ]
  },
  {
   "cell_type": "code",
   "execution_count": null,
   "metadata": {},
   "outputs": [],
   "source": [
    "index_of_set_1 = np.where(set_1 == 1)[0] # retorna los indices de los items elegidos.\n",
    "index_of_set_2 = np.where(set_2 == 1)[0]\n",
    "output_df_1 = df.iloc[index_of_set_1]\n",
    "output_df_2 = df.iloc[index_of_set_2]\n",
    "print(\"-------------------------------------\")\n",
    "print(\"Choosen items in Set 1 are: \")\n",
    "print(output_df_1)\n",
    "print(\"-------------------------------------\")\n",
    "print(\"-------------------------------------\")\n",
    "print(\"Choosen items in Set 2 are: \")\n",
    "print(output_df_2)\n",
    "print(\"-------------------------------------\")\n",
    "\n",
    "\n",
    "sum_set_1 = np.dot(set, solution[0:size])\n",
    "sum_set_2 = suma - sum_set_1\n",
    "print(\"Suma del primer conjunto = \", sum_set_1)\n",
    "print(\"Suma del segundo conjunto = \", sum_set_2)\n",
    "\n",
    "verificacion_disjunta = np.dot(set_1, set_2) # Si es cero, los conjuntos son efectivamente disjuntos\n",
    "verificacion_particion = np.sum(set_1) + np.sum(set_2) - size\n",
    "\n",
    "if verificacion_disjunta != 0:\n",
    "    print(\"ERROR: los conjuntos no son disjuntos\")\n",
    "\n",
    "if verificacion_particion != 0:\n",
    "    print(\"ERROR: los conjuntos no particionan S\")"
   ]
  }
 ],
 "metadata": {
  "kernelspec": {
   "display_name": "Python 3",
   "language": "python",
   "name": "python3"
  },
  "language_info": {
   "codemirror_mode": {
    "name": "ipython",
    "version": 3
   },
   "file_extension": ".py",
   "mimetype": "text/x-python",
   "name": "python",
   "nbconvert_exporter": "python",
   "pygments_lexer": "ipython3",
   "version": "3.10.7"
  },
  "orig_nbformat": 4,
  "vscode": {
   "interpreter": {
    "hash": "369f2c481f4da34e4445cda3fffd2e751bd1c4d706f27375911949ba6bb62e1c"
   }
  }
 },
 "nbformat": 4,
 "nbformat_minor": 2
}
