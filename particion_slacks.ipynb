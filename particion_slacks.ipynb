{
 "cells": [
  {
   "attachments": {},
   "cell_type": "markdown",
   "metadata": {},
   "source": [
    "# Particion con slacks:\n",
    "\n",
    "Queremos ahora probar que pasa si intentamos resolver el problema de las particiones usando slacks:\n",
    "\n",
    "$$\\sum_{i = 1}^{N} a_ix_i \\leq \\frac{P}{2}$$\n",
    "$$\\sum_{i = 1}^{N} a_iy_i \\leq \\frac{P}{2}$$\n",
    "\n",
    "Ademas, vamos a poner una penalizacion a $(x_i + y_i - 1)^2$ para que los conjuntos particiones $S$.\n",
    "#\n",
    "La matriz correspondiente a esta penalizacion $Q_{penalizacion}$ es igual a la matriz formada con identidades en el segundo metodo de particiones, con la diferencia de que vamos a tener que agregar ceros en el lugar de las variables slacks."
   ]
  },
  {
   "cell_type": "code",
   "execution_count": null,
   "metadata": {},
   "outputs": [],
   "source": [
    "import os\n",
    "import time\n",
    "import numpy as np\n",
    "import pandas as pd\n",
    "import math\n",
    "from utils import *\n",
    "import dimod\n",
    "import warnings\n",
    "import matplotlib.pyplot as plt\n",
    "from functions_dwave import *\n",
    "warnings.filterwarnings('ignore')"
   ]
  },
  {
   "cell_type": "code",
   "execution_count": null,
   "metadata": {},
   "outputs": [],
   "source": [
    "# Creamos una instancia del problema\n",
    "set = np.array([3, 1, 1, 2, 2, 1])\n",
    "set = np.array([7, 15, 3, 2, 5, 5, 10, 7])\n",
    "set = np.array([11, 5, 1, 5]) # Este array solo puede ser particionado de una forma\n",
    "set = np.array([1, 1, 1, 1, 1, 5, 10])\n",
    "#set = np.array([1, 2, 3])\n",
    "set = np.array([1, 2, 3, 4])\n",
    "suma = sum(set)\n",
    "size = len(set)\n",
    "data = dict({'set': set})\n",
    "df = pd.DataFrame(data)\n",
    "print(\"-------------------------------------\")\n",
    "print(\"Partition the set: \\n \")\n",
    "print(df)\n",
    "print(\"With total sum of: \", suma)"
   ]
  },
  {
   "cell_type": "code",
   "execution_count": null,
   "metadata": {},
   "outputs": [],
   "source": [
    "# Tomamos variables slacks para la suma total A (logA)\n",
    "num_slack_total = int(math.trunc(np.log2(suma))) + 1\n",
    "'''\n",
    "id = np.diag(np.ones(size)) # Matriz id de size*size\n",
    "id_expanded = np.diag(np.r_[np.ones(size), np.zeros(num_slack_total)])\n",
    "q_disjoint = np.column_stack((-id_expanded, np.row_stack((id, np.zeros((num_slack_total, size))))))\n",
    "q_disjoint = np.row_stack((q_disjoint, np.column_stack((id , np.zeros((size, num_slack_total)), -id))))\n",
    "'''\n",
    "\n",
    "# Definimos Q_disjoint igual que antes, agregando ceros para mantener las dimensiones:\n",
    "id_expanded = np.diag(np.r_[np.ones(size), np.zeros(num_slack_total)])\n",
    "q_disjoint = np.row_stack((np.column_stack((-id_expanded, id_expanded)), np.column_stack((id_expanded, -id_expanded))))\n",
    "\n",
    "pesosSlacks = (2 ** (np.arange(num_slack_total - 1))).astype(float)\n",
    "pesosSlacks = np.r_[pesosSlacks, suma - sum(pesosSlacks)] # revisar esto.\n",
    "\n",
    "# Definimos Q_restriccion para cada uno de los conjuntos\n",
    "vect_1 = np.r_[2 * set, pesosSlacks, np.zeros(size + num_slack_total)]\n",
    "vect_2 = np.r_[np.zeros(size + num_slack_total), 2 * set, pesosSlacks]\n",
    "\n",
    "q_restriccion_set1 = np.outer(vect_1, vect_1) - 2 * suma * np.diag(vect_1)\n",
    "q_restriccion_set2 = np.outer(vect_2, vect_2) - 2 * suma * np.diag(vect_2)\n",
    "q_restriccion = q_restriccion_set1 + q_restriccion_set2\n",
    "\n",
    "alpha = 1\n",
    "beta = 10\n",
    "qubo = alpha * q_restriccion + beta * q_disjoint\n"
   ]
  },
  {
   "cell_type": "code",
   "execution_count": null,
   "metadata": {},
   "outputs": [],
   "source": [
    "# Enviamos problema a Dwave:\n",
    "print(\"simmulating....\")\n",
    "sampleset = sendToDwave(qubo, 100, True) # aggregate = True\n",
    "print(\"Filtering:\")\n",
    "# Nos quedamos con la solucion que minimiza la energia:\n",
    "energies = [element[1] for element in sampleset]\n",
    "solution = sampleset[energies.index(min(energies))][0] # Le saco la energia\n",
    "set_1 = solution[0:size]\n",
    "set_2 = solution[size+num_slack_total:2*size + num_slack_total]\n",
    "print(set_1)\n",
    "print(set_2)\n",
    "print(sampleset)\n",
    "\n",
    "\n",
    "plt.bar([(str(el[1])) for el in sampleset], [(el[1]) for el in sampleset])\n",
    "plt.xticks(rotation = 90)\n",
    "plt.show()\n"
   ]
  },
  {
   "cell_type": "code",
   "execution_count": null,
   "metadata": {},
   "outputs": [],
   "source": [
    "index_of_set_1 = np.where(set_1 == 1)[0] # retorna los indices de los items elegidos.\n",
    "index_of_set_2 = np.where(set_2 == 1)[0]\n",
    "output_df_1 = df.iloc[index_of_set_1]\n",
    "output_df_2 = df.iloc[index_of_set_2]\n",
    "print(\"-------------------------------------\")\n",
    "print(\"Choosen items in Set 1 are: \")\n",
    "print(output_df_1)\n",
    "print(\"-------------------------------------\")\n",
    "print(\"-------------------------------------\")\n",
    "print(\"Choosen items in Set 2 are: \")\n",
    "print(output_df_2)\n",
    "print(\"-------------------------------------\")\n",
    "\n",
    "\n",
    "sum_set_1 = np.dot(set, solution[0:size])\n",
    "sum_set_2 = np.dot(set, solution[size+num_slack:2*size+num_slack])\n",
    "print(\"Suma del primer conjunto = \", sum_set_1)\n",
    "print(\"Suma del segundo conjunto = \", sum_set_2)\n",
    "\n",
    "verificacion_disjunta = np.dot(set_1, set_2) # Si es cero, los conjuntos son efectivamente disjuntos\n",
    "verificacion_particion = np.sum(set_1) + np.sum(set_2) - size # Si es cero, los conjuntos particionan S\n",
    "\n",
    "if verificacion_disjunta != 0:\n",
    "    print(\"ERROR: los conjuntos no son disjuntos\")\n",
    "\n",
    "if verificacion_particion != 0:\n",
    "    print(\"ERROR: los conjuntos no particionan S\")"
   ]
  }
 ],
 "metadata": {
  "kernelspec": {
   "display_name": "Python 3",
   "language": "python",
   "name": "python3"
  },
  "language_info": {
   "codemirror_mode": {
    "name": "ipython",
    "version": 3
   },
   "file_extension": ".py",
   "mimetype": "text/x-python",
   "name": "python",
   "nbconvert_exporter": "python",
   "pygments_lexer": "ipython3",
   "version": "3.10.7"
  },
  "orig_nbformat": 4,
  "vscode": {
   "interpreter": {
    "hash": "369f2c481f4da34e4445cda3fffd2e751bd1c4d706f27375911949ba6bb62e1c"
   }
  }
 },
 "nbformat": 4,
 "nbformat_minor": 2
}
