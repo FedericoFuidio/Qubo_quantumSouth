{
 "cells": [
  {
   "cell_type": "markdown",
   "metadata": {
    "id": "ysGVTjZweZmx"
   },
   "source": [
    "# Formulaciones qubo\n",
    "\n",
    "Recordamos la formulacion lineal del problema de knapsack:\n",
    "\n",
    "\n",
    "$$ max\\{  p^{t}x\\}$$\n",
    "st\n",
    "$$ w^{t}x \\leq W$$\n",
    "\n",
    "Las computadoras cuanticas no trabajan con formulaciones lineales, sino con formulaciones Q.U.B.O. \"Quadratic Unconstrained Binary Optimization\"."
   ]
  },
  {
   "cell_type": "markdown",
   "metadata": {
    "id": "ZjMNtS0_apVA"
   },
   "source": [
    "La idea, es encontrar una matriz $Q$ tal que el problema de hallar un $x$  que resuelva el problema de knapsack, sea analogo a resolver el problema:\n",
    "\n",
    "$$ min\\{  x^{t}Qx\\}$$\n",
    "\n",
    "De naturaleza cuadrática.\n",
    "\n",
    "La matriz $Q$ se descompone de la siguiente forma:\n",
    "\n",
    "$$Q = -Q_{objetivo}+\\alpha Q_{peso}$$ \n",
    "\n",
    "con $\\alpha \\in \\mathcal{R}$\n",
    "\n",
    "La idea es que el problema queda: \n",
    "\n",
    "$$ min\\{  x^{t}Qx\\} = min\\{  x^{t}(-Q_{objetivo}+\\alpha Q_{peso})x\\} = $$\n",
    "$$ min\\{  x^{t}(-Q_{objetivo})x + x^{t}(\\alpha Q_{peso})x\\}$$\n",
    "\n",
    "Es decir, se busca una descomposición de dos matrices, tal que si se logra minimizar $x^{t}(-Q_{objetivo})x$ y $x^{t}(\\alpha Q_{peso})x$ simultaneamente para el mismo $x$ entonces este $x$ será solución.\n",
    "\n",
    "Podemos notar que hay un problema, minimizar una suma no es lo mismo que minimizar cada término por separado, de ahi el surgimiento de la constante $\\alpha$ (a determinar) que garantice que la minimizacion sea coherente con el problema original"
   ]
  },
  {
   "attachments": {},
   "cell_type": "markdown",
   "metadata": {
    "id": "czMPYN1FH92M"
   },
   "source": [
    "# Construccion de la matriz de funcion objetivo\n",
    "\n",
    "Construiremos una matriz $Q_{objetivo}$ tal el problema $max\\{  p^{t}x\\}$ sea analogo a $min\\{  x^{t}(-Q_{objetivo})x\\}$\n",
    "\n",
    "Esta matriz $Q$ se puede determinar de la siguiente manera:\n",
    "\n",
    " \\begin{pmatrix}\n",
    "    p_1 & 0 & \\dots & 0 \\\\\n",
    "    0 & p_2 & \\dots & 0 \\\\\n",
    "    \\vdots & \\vdots & \\ddots & \\vdots \\\\\n",
    "    0 & 0 & \\dots & p_n\n",
    "  \\end{pmatrix}\n",
    "\n",
    "  Si hacemos las cuentas:\n",
    "\n",
    "  $$  x^{t}(-Q_{objetivo})x = p_1x_1^2 + p_2x_2^2+ \\dots + p_nx_n^2  $$\n",
    "  y como $x_i \\in \\{0, 1\\} \\rightarrow x_i^2 = x_i$ \n",
    "\n",
    "  entonces:\n",
    "\n",
    "  $$min\\{ x^{t}(-Q_{objetivo})x\\} = max\\{ \\sum_i p_ix_i\\} = max\\{p^{t}x\\}$$\n",
    "\n",
    "  > Observación: la dimension de la matriz es $n \\times n$. Luego esto cambiará  "
   ]
  },
  {
   "attachments": {},
   "cell_type": "markdown",
   "metadata": {
    "id": "E6I7AidZLVtl"
   },
   "source": [
    "# Implementacion de la matriz de restriccion\n",
    "\n",
    "Consideramos la restriccion: \n",
    "\n",
    "$w^{t}x \\leq W$\n",
    "\n",
    "Aqui el enfoque de optimizacion cambia. En vez de buscar soluciones que garanticen que se cumpla la restriccion, se buscaran soluciones que cumplan:\n",
    "\n",
    "$(w^{t}x - W)^{2} \\leq \\epsilon$ \n",
    "\n",
    "Es decir, se intentara minimizar el error cometido al no cumplir la restriccion, y se agregará este término a la función objetivo.\n",
    "\n",
    "Con esto en mente, queremos hallar una matriz $Q$ tal que:\n",
    "\n",
    "\n",
    "$min \\{Q_{peso}\\}$ sea equivalente a que se respete $w^{t}x \\leq W$.\n",
    "\n",
    "## Necesidad de variables auxiliares\n",
    "Para hallar esta matriz, debemos ampliar al vector $x$ ya que se necesitan agregar unas ciertas variables de slack $s_i$ para poder representar la igualdad. La cantidad de variables de slack a agregar es:\n",
    "\n",
    "$$L =  \\lfloor log_2(W)\\rfloor+1$$\n",
    "\n",
    "Entonces el vector $x$ queda:\n",
    "\n",
    "$$x = [x_1 , x_2 , \\dots, x_n, s_1, s_2,\\dots,s_L ]$$\n",
    "\n",
    "> Nuestra nueva matriz $Q_{objetivo}$ queda:\n",
    "\n",
    " \\begin{pmatrix}\n",
    "    Q_{objetivo} & 0 & \\dots & 0 \\\\\n",
    "    0 & 0_1 & \\dots & 0 \\\\\n",
    "    \\vdots & \\vdots & \\ddots & \\vdots \\\\\n",
    "    0 & 0 & \\dots & 0_L \\\\\n",
    "  \\end{pmatrix}\n",
    "\n",
    "## Implementacion de la matriz de restriccion\n",
    "\n",
    "Con esta aclaracion en mente, la matriz de restriccion de peso queda:\n",
    "\n",
    "$$Q_{peso} = v^{t}*v - 2*W*D$$\n",
    "\n",
    "Donde:\n",
    "\n",
    "$$v = \\left( w_1, w_2,\\dots ,w_n, 2^0, 2^1,...,2^{L-1}, W+1 -2^{L-1} \\right)$$\n",
    "\n",
    "y $D$ es una matriz cuya diagonal principal es el vector $v$\n",
    "\n",
    "\n",
    "\n"
   ]
  },
  {
   "cell_type": "code",
   "execution_count": null,
   "metadata": {
    "colab": {
     "base_uri": "https://localhost:8080/"
    },
    "executionInfo": {
     "elapsed": 391,
     "status": "ok",
     "timestamp": 1669904367262,
     "user": {
      "displayName": "Ariel mordetzki",
      "userId": "11375042184000331705"
     },
     "user_tz": 180
    },
    "id": "9abCz7h8Jvq3",
    "outputId": "565e22fd-0692-4449-d65d-45878d8b93a7"
   },
   "outputs": [],
   "source": [
    "# Creamos instancia del problema\n",
    "import numpy as np\n",
    "import pandas as pd\n",
    "import math\n",
    "\n",
    "profits = np.array([18, 15, 10, 10, 18])\n",
    "weights = np.array([19, 13, 10, 17, 10])\n",
    "data = dict({'weight': weights,'profit': profits})\n",
    "num_items = len(profits)\n",
    "max_weight = int(np.floor(num_items / 2 * np.mean(weights)))\n",
    "df = pd.DataFrame(data)\n",
    "print(\"-------------------------------------\")\n",
    "print(\"Choose items from: \\n \")\n",
    "print(df)\n",
    "print(f\"with a max weight of: {max_weight}\\n \")\n",
    "print(\"-------------------------------------\")"
   ]
  },
  {
   "cell_type": "code",
   "execution_count": null,
   "metadata": {
    "colab": {
     "base_uri": "https://localhost:8080/"
    },
    "executionInfo": {
     "elapsed": 3,
     "status": "ok",
     "timestamp": 1669904406291,
     "user": {
      "displayName": "Ariel mordetzki",
      "userId": "11375042184000331705"
     },
     "user_tz": 180
    },
    "id": "t47wrxZbA1aQ",
    "outputId": "79953b60-6d3b-40af-bb40-27d57337f0cf"
   },
   "outputs": [],
   "source": [
    "# Calculamos la cantidad de slacks\n",
    "num_slack = int(math.trunc(np.log2(max_weight))) + 1\n",
    "print(\"Cantidad de slacks de peso: \", num_slack)"
   ]
  },
  {
   "cell_type": "code",
   "execution_count": null,
   "metadata": {
    "executionInfo": {
     "elapsed": 4,
     "status": "ok",
     "timestamp": 1669904367633,
     "user": {
      "displayName": "Ariel mordetzki",
      "userId": "11375042184000331705"
     },
     "user_tz": 180
    },
    "id": "TLbOVEDpdHCM"
   },
   "outputs": [],
   "source": [
    "def get_Q_objetivo(profits, num_slack):\n",
    "  diagonal = np.r_[profits, np.zeros(num_slack)] # Creamos la diagonal de la matriz\n",
    "  qubo = np.diag(diagonal) # Creamos la matriz diagonal\n",
    "  return qubo"
   ]
  },
  {
   "cell_type": "code",
   "execution_count": null,
   "metadata": {
    "executionInfo": {
     "elapsed": 312,
     "status": "ok",
     "timestamp": 1669904482778,
     "user": {
      "displayName": "Ariel mordetzki",
      "userId": "11375042184000331705"
     },
     "user_tz": 180
    },
    "id": "N-0FHpIx0W37"
   },
   "outputs": [],
   "source": [
    "def get_Q_Peso(max_weight, weights, num_slack):\n",
    " \n",
    "    pesosSlacks = (2 ** (np.arange(num_slack - 1))).astype(float)\n",
    "    pesosSlacks = np.r_[pesosSlacks, max_weight - sum(pesosSlacks)] # revisar esto.\n",
    "    #pesosSlacks = np.r_[[1,2,4,8,16],[2]]\n",
    "    vect = np.r_[weights, pesosSlacks]\n",
    "    qubo = np.outer(vect, vect) - 2 * max_weight * np.diag(vect)  #No iria en el hamiltoniano\n",
    "\n",
    "    return qubo"
   ]
  },
  {
   "cell_type": "code",
   "execution_count": null,
   "metadata": {
    "colab": {
     "base_uri": "https://localhost:8080/"
    },
    "executionInfo": {
     "elapsed": 4,
     "status": "ok",
     "timestamp": 1669904367634,
     "user": {
      "displayName": "Ariel mordetzki",
      "userId": "11375042184000331705"
     },
     "user_tz": 180
    },
    "id": "gImULJxjDMtO",
    "outputId": "3c98dc66-873d-45bf-b6b4-b0edba0d24e4"
   },
   "outputs": [],
   "source": [
    "# Formulacion del problema\n",
    "\n",
    "q_objetivo = get_Q_objetivo(profits, num_slack)\n",
    "print(\"Matriz q_objetivo: \\n\", q_objetivo)"
   ]
  },
  {
   "cell_type": "markdown",
   "metadata": {
    "id": "OaPF7ymSDrJ2"
   },
   "source": [
    "Podemos notar que esta bien definida. Los profits en la diagonal principal seguido de $6$ ceros. "
   ]
  },
  {
   "cell_type": "code",
   "execution_count": null,
   "metadata": {
    "colab": {
     "base_uri": "https://localhost:8080/"
    },
    "executionInfo": {
     "elapsed": 3,
     "status": "ok",
     "timestamp": 1669904499242,
     "user": {
      "displayName": "Ariel mordetzki",
      "userId": "11375042184000331705"
     },
     "user_tz": 180
    },
    "id": "Phm4S591D2bS",
    "outputId": "8dbd8f44-495e-4e22-885f-aceda982ce62"
   },
   "outputs": [],
   "source": [
    "q_peso = get_Q_Peso(max_weight, weights, num_slack)\n",
    "print(\"Matriz q_objetivo: \\n\", q_peso)"
   ]
  },
  {
   "cell_type": "markdown",
   "metadata": {
    "id": "qahNFTxuEKCZ"
   },
   "source": [
    "Ayuda con el analisis :) "
   ]
  },
  {
   "cell_type": "code",
   "execution_count": null,
   "metadata": {
    "colab": {
     "base_uri": "https://localhost:8080/"
    },
    "executionInfo": {
     "elapsed": 3,
     "status": "ok",
     "timestamp": 1669904625200,
     "user": {
      "displayName": "Ariel mordetzki",
      "userId": "11375042184000331705"
     },
     "user_tz": 180
    },
    "id": "dwRAR0raEMMc",
    "outputId": "243d0603-ce9e-4164-8521-726e92fb00e5"
   },
   "outputs": [],
   "source": [
    "# Armamos el modelo:\n",
    "\n",
    "alpha = 2/9\n",
    "qubo = -q_objetivo + alpha * q_peso\n",
    "\n",
    "print(\"Dimensiones del problema: \", qubo.shape)\n",
    "\n"
   ]
  },
  {
   "cell_type": "markdown",
   "metadata": {
    "id": "Prqs9kr6Eo7N"
   },
   "source": [
    "Para resolver el knapsack con $5$ items y peso maximo de $34$ necesitamos un total de $11$ qubits.\n",
    "\n",
    "La formula general es:\n",
    "Siendo $n$ la cantidad de items, $L$ la cantidad de slacks, se necesitaran un total de \n",
    "$N = n+L$ qubits para resolver el problema, o en funcion del peso maximo $W$:\n",
    "\n",
    "$N = n+\\lfloor log_2(W)\\rfloor+1$ qubits.\n",
    "\n",
    "En la siguiente seccion veremos como resolver el problema de optimizion utilizando dwave. "
   ]
  }
 ],
 "metadata": {
  "colab": {
   "authorship_tag": "ABX9TyMplXkRnMbkm4USDt9Ckz8P",
   "provenance": []
  },
  "kernelspec": {
   "display_name": "Python 3",
   "language": "python",
   "name": "python3"
  },
  "language_info": {
   "codemirror_mode": {
    "name": "ipython",
    "version": 3
   },
   "file_extension": ".py",
   "mimetype": "text/x-python",
   "name": "python",
   "nbconvert_exporter": "python",
   "pygments_lexer": "ipython3",
   "version": "3.10.7"
  },
  "vscode": {
   "interpreter": {
    "hash": "369f2c481f4da34e4445cda3fffd2e751bd1c4d706f27375911949ba6bb62e1c"
   }
  }
 },
 "nbformat": 4,
 "nbformat_minor": 1
}
